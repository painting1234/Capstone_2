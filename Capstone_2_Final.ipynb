{
 "cells": [
  {
   "cell_type": "code",
   "execution_count": 1,
   "metadata": {},
   "outputs": [
    {
     "data": {
      "text/plain": [
       "['.ipynb_checkpoints',\n",
       " 'Binance_Bot_2021-01-15-Copy1.ipynb',\n",
       " 'Binance_Bot_2021-01-15.ipynb',\n",
       " 'Binance_Bot_Example.ipynb',\n",
       " 'Binance_Trading.ipynb',\n",
       " 'bot_troubleshooting.ipynb',\n",
       " 'buy_counts.txt',\n",
       " 'Capstone.ipynb',\n",
       " 'Capstone_2.ipynb',\n",
       " 'Capstone_2_DataWrangling.ipynb',\n",
       " 'Capstone_2_EDA.ipynb',\n",
       " 'Capstone_2_Final.ipynb',\n",
       " 'Capstone_2_RFE.ipynb',\n",
       " 'Capstone_2_test.ipynb',\n",
       " 'Capstone_2_v3.ipynb',\n",
       " 'Capstone_2_v4.ipynb',\n",
       " 'Cluster_Analysis.ipynb',\n",
       " 'codebook_publicv4.xlsx',\n",
       " 'Coinbase_Candlestick.ipynb',\n",
       " 'config.py',\n",
       " 'Data Cleaning',\n",
       " 'Data Cleaning.zip',\n",
       " 'Data_Wrangling.ipynb',\n",
       " 'grid_data.ipynb',\n",
       " 'MonteCarlo_Option.ipynb',\n",
       " 'Pandas_Profiling.ipynb',\n",
       " 'Pandas_Profiling_Results.html',\n",
       " 'recs2015.csv',\n",
       " 'recs2015_copy.xlsx',\n",
       " 'removed_list.xlsx',\n",
       " 'removed_list2.xlsx',\n",
       " 'removed_list_inspection.xlsx',\n",
       " 'Resources',\n",
       " 'results.xlsx',\n",
       " 'results_sorted.xlsx',\n",
       " 'sell_counts.txt',\n",
       " 'Untitled.ipynb',\n",
       " 'WaterAPI.ipynb',\n",
       " 'Yunjeong_Mo_vars.xlsx',\n",
       " '__pycache__']"
      ]
     },
     "execution_count": 1,
     "metadata": {},
     "output_type": "execute_result"
    }
   ],
   "source": [
    "# Import packages\n",
    "import os\n",
    "import seaborn as sns\n",
    "import numpy as np\n",
    "import pandas as pd\n",
    "import matplotlib.pyplot as plt\n",
    "from IPython.display import display, HTML\n",
    "import statsmodels.api as sm\n",
    "os.listdir()"
   ]
  },
  {
   "cell_type": "code",
   "execution_count": 2,
   "metadata": {},
   "outputs": [
    {
     "name": "stdout",
     "output_type": "stream",
     "text": [
      "(5686, 758)\n"
     ]
    },
    {
     "data": {
      "text/html": [
       "<div>\n",
       "<style scoped>\n",
       "    .dataframe tbody tr th:only-of-type {\n",
       "        vertical-align: middle;\n",
       "    }\n",
       "\n",
       "    .dataframe tbody tr th {\n",
       "        vertical-align: top;\n",
       "    }\n",
       "\n",
       "    .dataframe thead th {\n",
       "        text-align: right;\n",
       "    }\n",
       "</style>\n",
       "<table border=\"1\" class=\"dataframe\">\n",
       "  <thead>\n",
       "    <tr style=\"text-align: right;\">\n",
       "      <th></th>\n",
       "      <th>REGIONC</th>\n",
       "      <th>DIVISION</th>\n",
       "      <th>METROMICRO</th>\n",
       "      <th>UATYP10</th>\n",
       "      <th>TYPEHUQ</th>\n",
       "      <th>ZTYPEHUQ</th>\n",
       "      <th>CELLAR</th>\n",
       "      <th>ZCELLAR</th>\n",
       "      <th>BASEFIN</th>\n",
       "      <th>ZBASEFIN</th>\n",
       "      <th>...</th>\n",
       "      <th>ZELAMOUNT</th>\n",
       "      <th>NGXBTU</th>\n",
       "      <th>PERIODNG</th>\n",
       "      <th>ZNGAMOUNT</th>\n",
       "      <th>FOXBTU</th>\n",
       "      <th>PERIODFO</th>\n",
       "      <th>ZFOAMOUNT</th>\n",
       "      <th>LPXBTU</th>\n",
       "      <th>PERIODLP</th>\n",
       "      <th>ZLPAMOUNT</th>\n",
       "    </tr>\n",
       "    <tr>\n",
       "      <th>DOEID</th>\n",
       "      <th></th>\n",
       "      <th></th>\n",
       "      <th></th>\n",
       "      <th></th>\n",
       "      <th></th>\n",
       "      <th></th>\n",
       "      <th></th>\n",
       "      <th></th>\n",
       "      <th></th>\n",
       "      <th></th>\n",
       "      <th></th>\n",
       "      <th></th>\n",
       "      <th></th>\n",
       "      <th></th>\n",
       "      <th></th>\n",
       "      <th></th>\n",
       "      <th></th>\n",
       "      <th></th>\n",
       "      <th></th>\n",
       "      <th></th>\n",
       "      <th></th>\n",
       "    </tr>\n",
       "  </thead>\n",
       "  <tbody>\n",
       "    <tr>\n",
       "      <th>10001</th>\n",
       "      <td>4</td>\n",
       "      <td>10</td>\n",
       "      <td>METRO</td>\n",
       "      <td>U</td>\n",
       "      <td>2</td>\n",
       "      <td>0</td>\n",
       "      <td>0</td>\n",
       "      <td>0</td>\n",
       "      <td>-2</td>\n",
       "      <td>-2</td>\n",
       "      <td>...</td>\n",
       "      <td>0</td>\n",
       "      <td>103.32</td>\n",
       "      <td>1</td>\n",
       "      <td>0</td>\n",
       "      <td>137.45</td>\n",
       "      <td>-2</td>\n",
       "      <td>-2</td>\n",
       "      <td>91.33</td>\n",
       "      <td>-2</td>\n",
       "      <td>-2</td>\n",
       "    </tr>\n",
       "    <tr>\n",
       "      <th>10002</th>\n",
       "      <td>3</td>\n",
       "      <td>7</td>\n",
       "      <td>NONE</td>\n",
       "      <td>R</td>\n",
       "      <td>2</td>\n",
       "      <td>0</td>\n",
       "      <td>0</td>\n",
       "      <td>0</td>\n",
       "      <td>-2</td>\n",
       "      <td>-2</td>\n",
       "      <td>...</td>\n",
       "      <td>1</td>\n",
       "      <td>NaN</td>\n",
       "      <td>-2</td>\n",
       "      <td>-2</td>\n",
       "      <td>137.45</td>\n",
       "      <td>-2</td>\n",
       "      <td>-2</td>\n",
       "      <td>91.33</td>\n",
       "      <td>-2</td>\n",
       "      <td>-2</td>\n",
       "    </tr>\n",
       "    <tr>\n",
       "      <th>10003</th>\n",
       "      <td>3</td>\n",
       "      <td>6</td>\n",
       "      <td>METRO</td>\n",
       "      <td>U</td>\n",
       "      <td>2</td>\n",
       "      <td>0</td>\n",
       "      <td>1</td>\n",
       "      <td>0</td>\n",
       "      <td>1</td>\n",
       "      <td>0</td>\n",
       "      <td>...</td>\n",
       "      <td>0</td>\n",
       "      <td>100.14</td>\n",
       "      <td>1</td>\n",
       "      <td>0</td>\n",
       "      <td>137.45</td>\n",
       "      <td>-2</td>\n",
       "      <td>-2</td>\n",
       "      <td>91.33</td>\n",
       "      <td>-2</td>\n",
       "      <td>-2</td>\n",
       "    </tr>\n",
       "    <tr>\n",
       "      <th>10004</th>\n",
       "      <td>2</td>\n",
       "      <td>4</td>\n",
       "      <td>MICRO</td>\n",
       "      <td>C</td>\n",
       "      <td>2</td>\n",
       "      <td>0</td>\n",
       "      <td>1</td>\n",
       "      <td>0</td>\n",
       "      <td>1</td>\n",
       "      <td>0</td>\n",
       "      <td>...</td>\n",
       "      <td>0</td>\n",
       "      <td>NaN</td>\n",
       "      <td>-2</td>\n",
       "      <td>-2</td>\n",
       "      <td>137.45</td>\n",
       "      <td>-2</td>\n",
       "      <td>-2</td>\n",
       "      <td>91.33</td>\n",
       "      <td>2</td>\n",
       "      <td>0</td>\n",
       "    </tr>\n",
       "    <tr>\n",
       "      <th>10005</th>\n",
       "      <td>1</td>\n",
       "      <td>2</td>\n",
       "      <td>METRO</td>\n",
       "      <td>U</td>\n",
       "      <td>2</td>\n",
       "      <td>0</td>\n",
       "      <td>1</td>\n",
       "      <td>0</td>\n",
       "      <td>0</td>\n",
       "      <td>0</td>\n",
       "      <td>...</td>\n",
       "      <td>0</td>\n",
       "      <td>102.83</td>\n",
       "      <td>1</td>\n",
       "      <td>0</td>\n",
       "      <td>137.45</td>\n",
       "      <td>-2</td>\n",
       "      <td>-2</td>\n",
       "      <td>91.33</td>\n",
       "      <td>-2</td>\n",
       "      <td>-2</td>\n",
       "    </tr>\n",
       "  </tbody>\n",
       "</table>\n",
       "<p>5 rows × 758 columns</p>\n",
       "</div>"
      ],
      "text/plain": [
       "       REGIONC  DIVISION METROMICRO UATYP10  TYPEHUQ  ZTYPEHUQ  CELLAR  \\\n",
       "DOEID                                                                    \n",
       "10001        4        10      METRO       U        2         0       0   \n",
       "10002        3         7       NONE       R        2         0       0   \n",
       "10003        3         6      METRO       U        2         0       1   \n",
       "10004        2         4      MICRO       C        2         0       1   \n",
       "10005        1         2      METRO       U        2         0       1   \n",
       "\n",
       "       ZCELLAR  BASEFIN  ZBASEFIN  ...  ZELAMOUNT  NGXBTU  PERIODNG  \\\n",
       "DOEID                              ...                                \n",
       "10001        0       -2        -2  ...          0  103.32         1   \n",
       "10002        0       -2        -2  ...          1     NaN        -2   \n",
       "10003        0        1         0  ...          0  100.14         1   \n",
       "10004        0        1         0  ...          0     NaN        -2   \n",
       "10005        0        0         0  ...          0  102.83         1   \n",
       "\n",
       "       ZNGAMOUNT  FOXBTU  PERIODFO  ZFOAMOUNT  LPXBTU  PERIODLP  ZLPAMOUNT  \n",
       "DOEID                                                                       \n",
       "10001          0  137.45        -2         -2   91.33        -2         -2  \n",
       "10002         -2  137.45        -2         -2   91.33        -2         -2  \n",
       "10003          0  137.45        -2         -2   91.33        -2         -2  \n",
       "10004         -2  137.45        -2         -2   91.33         2          0  \n",
       "10005          0  137.45        -2         -2   91.33        -2         -2  \n",
       "\n",
       "[5 rows x 758 columns]"
      ]
     },
     "execution_count": 2,
     "metadata": {},
     "output_type": "execute_result"
    }
   ],
   "source": [
    "# Data Collection\n",
    "# Data files and codebook from: https://www.eia.gov/consumption/residential/data/2015/index.php?view=microdata\n",
    "\n",
    "# Load and Preview DataFrame\n",
    "df = pd.read_csv('recs2015.csv')\n",
    "df = df.set_index(['DOEID'])\n",
    "print(df.shape)\n",
    "df.head()"
   ]
  },
  {
   "cell_type": "code",
   "execution_count": 3,
   "metadata": {},
   "outputs": [],
   "source": [
    "# Create feature for electric rate; total electric\n",
    "df['ELRATE'] = df['DOLLAREL']/df['KWH']"
   ]
  },
  {
   "cell_type": "markdown",
   "metadata": {},
   "source": [
    "### Exploratory Data Analysis"
   ]
  },
  {
   "cell_type": "code",
   "execution_count": 4,
   "metadata": {},
   "outputs": [
    {
     "data": {
      "text/plain": [
       "<AxesSubplot:xlabel='BEDROOMS', ylabel='KWH'>"
      ]
     },
     "execution_count": 4,
     "metadata": {},
     "output_type": "execute_result"
    },
    {
     "data": {
      "image/png": "[encoded data removed]",
      "text/plain": [
       "<Figure size 432x288 with 1 Axes>"
      ]
     },
     "metadata": {
      "needs_background": "light"
     },
     "output_type": "display_data"
    }
   ],
   "source": [
    "sns.boxplot(x=df['BEDROOMS'],y=df['KWH'])"
   ]
  },
  {
   "cell_type": "code",
   "execution_count": 5,
   "metadata": {},
   "outputs": [
    {
     "data": {
      "text/plain": [
       "<AxesSubplot:xlabel='YEARMADERANGE', ylabel='KWH'>"
      ]
     },
     "execution_count": 5,
     "metadata": {},
     "output_type": "execute_result"
    },
    {
     "data": {
      "image/png": "[encoded data removed]",
      "text/plain": [
       "<Figure size 432x288 with 1 Axes>"
      ]
     },
     "metadata": {
      "needs_background": "light"
     },
     "output_type": "display_data"
    }
   ],
   "source": [
    "sns.boxplot(x=df['YEARMADERANGE'],y=df['KWH'])"
   ]
  },
  {
   "cell_type": "code",
   "execution_count": 6,
   "metadata": {},
   "outputs": [
    {
     "data": {
      "text/plain": [
       "<AxesSubplot:xlabel='REGIONC', ylabel='KWH'>"
      ]
     },
     "execution_count": 6,
     "metadata": {},
     "output_type": "execute_result"
    },
    {
     "data": {
      "image/png": "[encoded data removed]",
      "text/plain": [
       "<Figure size 432x288 with 1 Axes>"
      ]
     },
     "metadata": {
      "needs_background": "light"
     },
     "output_type": "display_data"
    }
   ],
   "source": [
    "sns.boxplot(x=df['REGIONC'],y=df['KWH'])"
   ]
  },
  {
   "cell_type": "code",
   "execution_count": 7,
   "metadata": {},
   "outputs": [
    {
     "data": {
      "image/png": "[encoded data removed]",
      "text/plain": [
       "<Figure size 432x288 with 1 Axes>"
      ]
     },
     "metadata": {
      "needs_background": "light"
     },
     "output_type": "display_data"
    },
    {
     "data": {
      "text/plain": [
       "<Figure size 2160x2160 with 0 Axes>"
      ]
     },
     "metadata": {},
     "output_type": "display_data"
    },
    {
     "data": {
      "text/html": [
       "<div>\n",
       "<style scoped>\n",
       "    .dataframe tbody tr th:only-of-type {\n",
       "        vertical-align: middle;\n",
       "    }\n",
       "\n",
       "    .dataframe tbody tr th {\n",
       "        vertical-align: top;\n",
       "    }\n",
       "\n",
       "    .dataframe thead th {\n",
       "        text-align: right;\n",
       "    }\n",
       "</style>\n",
       "<table border=\"1\" class=\"dataframe\">\n",
       "  <thead>\n",
       "    <tr style=\"text-align: right;\">\n",
       "      <th></th>\n",
       "      <th>WALLTYPE_1</th>\n",
       "      <th>WALLTYPE_2</th>\n",
       "      <th>WALLTYPE_3</th>\n",
       "      <th>WALLTYPE_4</th>\n",
       "      <th>WALLTYPE_5</th>\n",
       "      <th>WALLTYPE_6</th>\n",
       "      <th>WALLTYPE_7</th>\n",
       "      <th>WALLTYPE_9</th>\n",
       "      <th>ROOFTYPE_-2</th>\n",
       "      <th>ROOFTYPE_1</th>\n",
       "      <th>ROOFTYPE_2</th>\n",
       "      <th>ROOFTYPE_3</th>\n",
       "      <th>ROOFTYPE_4</th>\n",
       "      <th>ROOFTYPE_5</th>\n",
       "      <th>ROOFTYPE_7</th>\n",
       "      <th>ROOFTYPE_9</th>\n",
       "    </tr>\n",
       "    <tr>\n",
       "      <th>DOEID</th>\n",
       "      <th></th>\n",
       "      <th></th>\n",
       "      <th></th>\n",
       "      <th></th>\n",
       "      <th></th>\n",
       "      <th></th>\n",
       "      <th></th>\n",
       "      <th></th>\n",
       "      <th></th>\n",
       "      <th></th>\n",
       "      <th></th>\n",
       "      <th></th>\n",
       "      <th></th>\n",
       "      <th></th>\n",
       "      <th></th>\n",
       "      <th></th>\n",
       "    </tr>\n",
       "  </thead>\n",
       "  <tbody>\n",
       "    <tr>\n",
       "      <th>10001</th>\n",
       "      <td>0</td>\n",
       "      <td>0</td>\n",
       "      <td>0</td>\n",
       "      <td>1</td>\n",
       "      <td>0</td>\n",
       "      <td>0</td>\n",
       "      <td>0</td>\n",
       "      <td>0</td>\n",
       "      <td>0</td>\n",
       "      <td>1</td>\n",
       "      <td>0</td>\n",
       "      <td>0</td>\n",
       "      <td>0</td>\n",
       "      <td>0</td>\n",
       "      <td>0</td>\n",
       "      <td>0</td>\n",
       "    </tr>\n",
       "    <tr>\n",
       "      <th>10002</th>\n",
       "      <td>0</td>\n",
       "      <td>0</td>\n",
       "      <td>1</td>\n",
       "      <td>0</td>\n",
       "      <td>0</td>\n",
       "      <td>0</td>\n",
       "      <td>0</td>\n",
       "      <td>0</td>\n",
       "      <td>0</td>\n",
       "      <td>0</td>\n",
       "      <td>0</td>\n",
       "      <td>1</td>\n",
       "      <td>0</td>\n",
       "      <td>0</td>\n",
       "      <td>0</td>\n",
       "      <td>0</td>\n",
       "    </tr>\n",
       "    <tr>\n",
       "      <th>10003</th>\n",
       "      <td>0</td>\n",
       "      <td>1</td>\n",
       "      <td>0</td>\n",
       "      <td>0</td>\n",
       "      <td>0</td>\n",
       "      <td>0</td>\n",
       "      <td>0</td>\n",
       "      <td>0</td>\n",
       "      <td>0</td>\n",
       "      <td>0</td>\n",
       "      <td>0</td>\n",
       "      <td>0</td>\n",
       "      <td>0</td>\n",
       "      <td>1</td>\n",
       "      <td>0</td>\n",
       "      <td>0</td>\n",
       "    </tr>\n",
       "    <tr>\n",
       "      <th>10004</th>\n",
       "      <td>0</td>\n",
       "      <td>0</td>\n",
       "      <td>1</td>\n",
       "      <td>0</td>\n",
       "      <td>0</td>\n",
       "      <td>0</td>\n",
       "      <td>0</td>\n",
       "      <td>0</td>\n",
       "      <td>0</td>\n",
       "      <td>0</td>\n",
       "      <td>0</td>\n",
       "      <td>0</td>\n",
       "      <td>0</td>\n",
       "      <td>1</td>\n",
       "      <td>0</td>\n",
       "      <td>0</td>\n",
       "    </tr>\n",
       "    <tr>\n",
       "      <th>10005</th>\n",
       "      <td>1</td>\n",
       "      <td>0</td>\n",
       "      <td>0</td>\n",
       "      <td>0</td>\n",
       "      <td>0</td>\n",
       "      <td>0</td>\n",
       "      <td>0</td>\n",
       "      <td>0</td>\n",
       "      <td>0</td>\n",
       "      <td>0</td>\n",
       "      <td>0</td>\n",
       "      <td>0</td>\n",
       "      <td>0</td>\n",
       "      <td>1</td>\n",
       "      <td>0</td>\n",
       "      <td>0</td>\n",
       "    </tr>\n",
       "  </tbody>\n",
       "</table>\n",
       "</div>"
      ],
      "text/plain": [
       "       WALLTYPE_1  WALLTYPE_2  WALLTYPE_3  WALLTYPE_4  WALLTYPE_5  WALLTYPE_6  \\\n",
       "DOEID                                                                           \n",
       "10001           0           0           0           1           0           0   \n",
       "10002           0           0           1           0           0           0   \n",
       "10003           0           1           0           0           0           0   \n",
       "10004           0           0           1           0           0           0   \n",
       "10005           1           0           0           0           0           0   \n",
       "\n",
       "       WALLTYPE_7  WALLTYPE_9  ROOFTYPE_-2  ROOFTYPE_1  ROOFTYPE_2  \\\n",
       "DOEID                                                                \n",
       "10001           0           0            0           1           0   \n",
       "10002           0           0            0           0           0   \n",
       "10003           0           0            0           0           0   \n",
       "10004           0           0            0           0           0   \n",
       "10005           0           0            0           0           0   \n",
       "\n",
       "       ROOFTYPE_3  ROOFTYPE_4  ROOFTYPE_5  ROOFTYPE_7  ROOFTYPE_9  \n",
       "DOEID                                                              \n",
       "10001           0           0           0           0           0  \n",
       "10002           1           0           0           0           0  \n",
       "10003           0           0           1           0           0  \n",
       "10004           0           0           1           0           0  \n",
       "10005           0           0           1           0           0  "
      ]
     },
     "execution_count": 7,
     "metadata": {},
     "output_type": "execute_result"
    }
   ],
   "source": [
    "# Perform hierarchial clustering on building properties\n",
    "from scipy.cluster.hierarchy import linkage, dendrogram\n",
    "from sklearn.preprocessing import normalize\n",
    "\n",
    "X0 = pd.get_dummies(df[['WALLTYPE', 'ROOFTYPE']].astype(str))\n",
    "\n",
    "mergings = linkage(X0.T, method='single')\n",
    "dendrogram(mergings, labels=X0.columns, leaf_rotation=0, leaf_font_size=3, orientation='right')\n",
    "plt.figure(figsize=(30,30))\n",
    "plt.show()\n",
    "plt.rcParams['figure.dpi'] = 150\n",
    "X0.head()"
   ]
  },
  {
   "cell_type": "markdown",
   "metadata": {},
   "source": [
    "### Data Cleaning"
   ]
  },
  {
   "cell_type": "markdown",
   "metadata": {},
   "source": [
    "#### -->Eliminate Extraneous Features"
   ]
  },
  {
   "cell_type": "code",
   "execution_count": 8,
   "metadata": {},
   "outputs": [],
   "source": [
    "# Read in lists of non-predictive features\n",
    "impute0 = pd.read_excel('Data Cleaning/imputation_flags.xlsx')['Variable']\n",
    "conversion0 = pd.read_excel('Data Cleaning/conversion_factors.xlsx')['Variable']\n",
    "other_utilities0 = pd.read_excel('Data Cleaning/other_utilities.xlsx')['Variable']\n",
    "estimators0 = pd.read_excel('Data Cleaning/statistical_estimators.xlsx')['Variable']\n",
    "utility_costs0 = pd.read_excel('Data Cleaning/utility_costs.xlsx')['Variable']\n",
    "miscellaneous0 = pd.read_excel('Data Cleaning/miscellaneous_not_used.xlsx')['Variable']\n",
    "redundant0 = pd.read_excel('Data Cleaning/redundant_vars.xlsx')['Variable']\n",
    "detailed0 = pd.read_excel('Data Cleaning/detailed_audit.xlsx')['Variable']"
   ]
  },
  {
   "cell_type": "code",
   "execution_count": 9,
   "metadata": {},
   "outputs": [],
   "source": [
    "# Read in lists of similar predictive features that may work better as clusters or principal components\n",
    "tenant_behavior_c = pd.read_excel('Data Cleaning/tenant_behavior_cluster.xlsx')['Variable']\n",
    "energy_star_c = pd.read_excel('Data Cleaning/energy_star_cluster.xlsx')['Variable']\n",
    "energy_assistance_c = pd.read_excel('Data Cleaning/energy_assistance_cluster.xlsx')['Variable']"
   ]
  },
  {
   "cell_type": "code",
   "execution_count": 10,
   "metadata": {},
   "outputs": [],
   "source": [
    "# Combine nonpredictive features into a single list\n",
    "nonpredict = np.concatenate((impute0, conversion0, other_utilities0, estimators0, utility_costs0, miscellaneous0, redundant0, detailed0), axis=0)"
   ]
  },
  {
   "cell_type": "code",
   "execution_count": 11,
   "metadata": {},
   "outputs": [],
   "source": [
    "# Combine clusters into list to be temporarily dropped\n",
    "clustervars = np.concatenate((tenant_behavior_c, energy_star_c, energy_assistance_c), axis=0)"
   ]
  },
  {
   "cell_type": "code",
   "execution_count": 12,
   "metadata": {},
   "outputs": [],
   "source": [
    "# Drop nonpredictive features\n",
    "df = df.drop(nonpredict, axis=1)\n",
    "df = df.drop(clustervars, axis=1)"
   ]
  },
  {
   "cell_type": "markdown",
   "metadata": {},
   "source": [
    "#### -->Inspect Resulting Dataframe"
   ]
  },
  {
   "cell_type": "code",
   "execution_count": 13,
   "metadata": {},
   "outputs": [],
   "source": [
    "# Count missing values: {'Not applicable': -2, 'Don't Know': -9, 'Refuse': -8}\n",
    "\n",
    "# Create mask for each type of missing value\n",
    "na_mask = df.apply(lambda x: x==-2)\n",
    "dk_mask = df.apply(lambda x: x==-9)\n",
    "refuse_mask = df.apply(lambda x: x==-8)"
   ]
  },
  {
   "cell_type": "code",
   "execution_count": 14,
   "metadata": {},
   "outputs": [
    {
     "name": "stdout",
     "output_type": "stream",
     "text": [
      "48 columns containing \"Not applicable\" values.\n",
      "4 columns containing \"Dont know\" values.\n",
      "2 columns containing \"Refuse\" values.\n"
     ]
    }
   ],
   "source": [
    "# Count number of instances where mask is True, then filter out columns with no missing values\n",
    "na = df[na_mask].count()[df[na_mask].count() > 0]\n",
    "dk = df[dk_mask].count()[df[dk_mask].count() > 0]\n",
    "refuse = df[refuse_mask].count()[df[refuse_mask].count() > 0]\n",
    "\n",
    "print(str(len(na.index)) + ' columns containing \\\"Not applicable\\\" values.')\n",
    "print(str(len(dk.index)) + ' columns containing \\\"Dont know\\\" values.')\n",
    "print(str(len(refuse.index)) + ' columns containing \\\"Refuse\\\" values.')"
   ]
  },
  {
   "cell_type": "markdown",
   "metadata": {},
   "source": [
    "#### -->Replace Negative Variables"
   ]
  },
  {
   "cell_type": "code",
   "execution_count": 15,
   "metadata": {},
   "outputs": [],
   "source": [
    "# Replace negative values for binary variables (i.e. where negatives are \"not applicable\")\n",
    "# Read in binary variables\n",
    "binaryvars = pd.read_excel('Data Cleaning/binary_vars.xlsx')['Variable']\n",
    "\n",
    "# Filter out negative values (\"Not applicable\" means approximately the same as \"no\" or \"does not have\")\n",
    "df[binaryvars] = df[binaryvars].apply(lambda x: (x>0)*x)"
   ]
  },
  {
   "cell_type": "markdown",
   "metadata": {},
   "source": [
    "#### -->Make Categorical Variables Dummy Variables"
   ]
  },
  {
   "cell_type": "code",
   "execution_count": 16,
   "metadata": {},
   "outputs": [],
   "source": [
    "# Create dummy variables for columns with missing answers, making the missing values the base case.\n",
    "\n",
    "# Read in list of categorical variables\n",
    "cat_vars = pd.read_excel('Data Cleaning/categorical_vars.xlsx')['Variable']"
   ]
  },
  {
   "cell_type": "code",
   "execution_count": null,
   "metadata": {},
   "outputs": [],
   "source": [
    "df = pd.get_dummies(df.astype(str), columns=cat_vars, drop_first=True, prefix=cat_vars).astype('float64')"
   ]
  },
  {
   "cell_type": "code",
   "execution_count": null,
   "metadata": {},
   "outputs": [],
   "source": [
    "# Check missing values\n",
    "print(df.isna().sum().max())\n",
    "\n",
    "# Inspect DataFrame\n",
    "df.shape"
   ]
  },
  {
   "cell_type": "markdown",
   "metadata": {},
   "source": [
    "### Feature Selection"
   ]
  },
  {
   "cell_type": "code",
   "execution_count": null,
   "metadata": {},
   "outputs": [],
   "source": [
    "# Feature Selection\n",
    "\n",
    "from sklearn.linear_model import Lasso\n",
    "from sklearn.model_selection import train_test_split"
   ]
  },
  {
   "cell_type": "code",
   "execution_count": null,
   "metadata": {},
   "outputs": [],
   "source": [
    "# Split Data\n",
    "X = df.drop('KWH', axis=1)\n",
    "names = df.drop('KWH', axis=1).columns\n",
    "y = df['KWH']"
   ]
  },
  {
   "cell_type": "markdown",
   "metadata": {},
   "source": [
    "#### -->Lasso Regression"
   ]
  },
  {
   "cell_type": "code",
   "execution_count": null,
   "metadata": {},
   "outputs": [],
   "source": [
    "# Lasso: Select Features\n",
    "\n",
    "lasso = Lasso(alpha=2, max_iter=1000, normalize=True)\n",
    "lasso_coef = lasso.fit(X,y).coef_\n",
    "coef = pd.DataFrame(lasso_coef, names)\n",
    "coef_names = coef[coef[0]>0].index\n",
    "print(coef_names)\n",
    "len(coef_names)"
   ]
  },
  {
   "cell_type": "code",
   "execution_count": null,
   "metadata": {},
   "outputs": [],
   "source": [
    "# Lasso: Regression\n",
    "\n",
    "X_train, X_test, y_train, y_test = train_test_split(X, y, test_size=0.3, random_state = 41)\n",
    "model = lasso.fit(X_train, y_train)\n",
    "y_pred = lasso.predict(X_test)\n",
    "lasso.score(X_test, y_test)"
   ]
  },
  {
   "cell_type": "code",
   "execution_count": null,
   "metadata": {},
   "outputs": [],
   "source": [
    "# Perform cross validation\n",
    "from sklearn.model_selection import cross_val_score\n",
    "\n",
    "cv_results = cross_val_score(lasso, X, y, cv=5)\n",
    "lasso_eval = np.mean(cv_results)\n",
    "print(lasso_eval)"
   ]
  },
  {
   "cell_type": "code",
   "execution_count": null,
   "metadata": {},
   "outputs": [],
   "source": [
    "#Correlation\n",
    "np.corrcoef(y_pred, y_test)"
   ]
  },
  {
   "cell_type": "markdown",
   "metadata": {},
   "source": [
    "**Reuse features from Lasso regression feature selection for other models**"
   ]
  },
  {
   "cell_type": "code",
   "execution_count": null,
   "metadata": {},
   "outputs": [],
   "source": [
    "# Create new filtered dataframe for X\n",
    "\n",
    "X = df[coef_names]"
   ]
  },
  {
   "cell_type": "markdown",
   "metadata": {},
   "source": [
    "### Linear Regression"
   ]
  },
  {
   "cell_type": "code",
   "execution_count": null,
   "metadata": {},
   "outputs": [],
   "source": [
    "# Linear Regression\n",
    "\n",
    "from sklearn.linear_model import LinearRegression\n",
    "\n",
    "X_train, X_test, y_train, y_test = train_test_split(X, y, test_size=0.3, random_state = 41)\n",
    "linear = LinearRegression()\n",
    "model = linear.fit(X_train, y_train)\n",
    "y_pred = linear.predict(X_test)\n",
    "linear.score(X_test, y_test)"
   ]
  },
  {
   "cell_type": "code",
   "execution_count": null,
   "metadata": {},
   "outputs": [],
   "source": [
    "# Perform cross validation\n",
    "\n",
    "cv_results = cross_val_score(linear, X, y, cv=5)\n",
    "linear_eval = np.mean(cv_results)\n",
    "print(linear_eval)"
   ]
  },
  {
   "cell_type": "code",
   "execution_count": null,
   "metadata": {},
   "outputs": [],
   "source": [
    "#Correlation\n",
    "np.corrcoef(y_pred, y_test)"
   ]
  },
  {
   "cell_type": "code",
   "execution_count": null,
   "metadata": {},
   "outputs": [],
   "source": [
    "# Inspect coefficients\n",
    "col = pd.DataFrame(X_test.columns)\n",
    "coefs = pd.DataFrame(model.coef_).transpose()\n",
    "pd.merge(col,coefs,left_index=True, right_index=True, indicator=True).sort_values(by='0_y', ascending=False).head(20)"
   ]
  },
  {
   "cell_type": "code",
   "execution_count": null,
   "metadata": {},
   "outputs": [],
   "source": [
    "# View coefficients for interpretability\n",
    "\n",
    "X2 = sm.add_constant(X_train)\n",
    "est = sm.OLS(y_train, X2)\n",
    "est2 = est.fit()\n",
    "print(est2.pvalues)\n",
    "est2.summary()"
   ]
  },
  {
   "cell_type": "code",
   "execution_count": null,
   "metadata": {},
   "outputs": [],
   "source": [
    "# Create DataFrame comparing LinearRegression Predicted kWh to Actual kWh\n",
    "\n",
    "predicted = pd.DataFrame(y_pred, columns=['Predicted']).set_index(y_test.index)\n",
    "results = pd.merge(predicted, y_test, left_index=True, right_index = True)\n",
    "results_sorted = results.sort_values(['KWH'])"
   ]
  },
  {
   "cell_type": "code",
   "execution_count": null,
   "metadata": {},
   "outputs": [],
   "source": [
    "# Visually inspect results\n",
    "\n",
    "_ = plt.scatter(np.arange(len(X_test)), results_sorted['Predicted'])\n",
    "_ = plt.scatter(np.arange(len(X_test)), results_sorted['KWH'])\n",
    "plt.legend(['Predicted kWh','Actual kWh'])\n",
    "plt.title(\"Linear Regression: Predicted and Actual kWh\")\n",
    "plt.show()"
   ]
  },
  {
   "cell_type": "markdown",
   "metadata": {},
   "source": [
    "### Ridge Regression"
   ]
  },
  {
   "cell_type": "code",
   "execution_count": null,
   "metadata": {},
   "outputs": [],
   "source": [
    "# Ridge Regression\n",
    "\n",
    "from sklearn.linear_model import Ridge\n",
    "\n",
    "X_train, X_test, y_train, y_test = train_test_split(X, y, test_size = 0.3, random_state=42)\n",
    "ridge = Ridge(alpha=0.1, normalize=True)\n",
    "model = ridge.fit(X_train, y_train)\n",
    "y_pred = ridge.predict(X_test)\n",
    "ridge.score(X_test, y_test)"
   ]
  },
  {
   "cell_type": "code",
   "execution_count": null,
   "metadata": {},
   "outputs": [],
   "source": [
    "# Perform cross validation\n",
    "\n",
    "cv_results = cross_val_score(ridge, X, y, cv=5)\n",
    "ridge_eval =  np.mean(cv_results)\n",
    "print(ridge_eval)"
   ]
  },
  {
   "cell_type": "code",
   "execution_count": null,
   "metadata": {},
   "outputs": [],
   "source": [
    "np.corrcoef(y_pred, y_test)"
   ]
  },
  {
   "cell_type": "code",
   "execution_count": null,
   "metadata": {},
   "outputs": [],
   "source": [
    "# Inspect coefficients\n",
    "col = pd.DataFrame(X_test.columns)\n",
    "coefs = pd.DataFrame(model.coef_).transpose()\n",
    "pd.merge(col,coefs,left_index=True, right_index=True).sort_values('0_y', ascending=False)[:50]"
   ]
  },
  {
   "cell_type": "code",
   "execution_count": null,
   "metadata": {},
   "outputs": [],
   "source": [
    "# Create DataFrame comparing RidgeRegression Predicted kWh to Actual kWh\n",
    "\n",
    "predicted = pd.DataFrame(y_pred, columns=['Predicted']).set_index(y_test.index)\n",
    "results = pd.merge(predicted, y_test, left_index=True, right_index = True)\n",
    "results_sorted = results.sort_values(['KWH'])"
   ]
  },
  {
   "cell_type": "code",
   "execution_count": null,
   "metadata": {},
   "outputs": [],
   "source": [
    "# Visually inspect results\n",
    "_ = plt.scatter(np.arange(len(X_test)), results_sorted['Predicted'])\n",
    "_ = plt.scatter(np.arange(len(X_test)), results_sorted['KWH'])\n",
    "plt.legend(['Predicted kWh','Actual kWh'])\n",
    "plt.title(\"Ridge Regression: Predicted and Actual kWh\")\n",
    "plt.show()"
   ]
  },
  {
   "cell_type": "code",
   "execution_count": null,
   "metadata": {},
   "outputs": [],
   "source": [
    "print('Cross Validation Results')\n",
    "print('Lasso_Regression:', lasso_eval)\n",
    "print('Linear_Regression:', linear_eval)\n",
    "print('Ridge_Regression:', ridge_eval)"
   ]
  },
  {
   "cell_type": "markdown",
   "metadata": {},
   "source": [
    "Summary\n",
    "\n",
    "I used Lasso Regression for feature selection. A higher alpha in the Lasso regression reduces the number of features, while a lower alpha preserves features. I manually tested the results of different alphas and determined that alpha=2 preserves most of the accuracy while substantially reducing number of features (down to 48 from the original 228 post manual feature inspection and deletion).\n",
    "\n",
    "I then performed model fitting and 5-fold cross-validation for a lasso, linear, and ridge regression model. All produced similar cross-validation scores (shown above) and had correlation coefficients of 0.77 to 0.78 between predicted kWh and test-set kWh.\n",
    "\n",
    "The linear regression model may be the best choice for its interpretability, even though lasso and ridge regression produced very slight improvements in cross-validation scores."
   ]
  }
 ],
 "metadata": {
  "kernelspec": {
   "display_name": "Python 3",
   "language": "python",
   "name": "python3"
  },
  "language_info": {
   "codemirror_mode": {
    "name": "ipython",
    "version": 3
   },
   "file_extension": ".py",
   "mimetype": "text/x-python",
   "name": "python",
   "nbconvert_exporter": "python",
   "pygments_lexer": "ipython3",
   "version": "3.7.9"
  },
  "toc-showtags": false
 },
 "nbformat": 4,
 "nbformat_minor": 4
}
