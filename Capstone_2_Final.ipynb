{
 "cells": [
  {
   "cell_type": "code",
   "execution_count": 1,
   "metadata": {},
   "outputs": [],
   "source": [
    "# Import packages\n",
    "import os\n",
    "import seaborn as sns\n",
    "import numpy as np\n",
    "import pandas as pd\n",
    "import matplotlib.pyplot as plt\n",
    "from IPython.display import display, HTML\n",
    "import statsmodels.api as sm\n",
    "import random\n",
    "random.seed(42)"
   ]
  },
  {
   "cell_type": "code",
   "execution_count": 2,
   "metadata": {},
   "outputs": [
    {
     "name": "stdout",
     "output_type": "stream",
     "text": [
      "(5686, 758)\n"
     ]
    },
    {
     "data": {
      "text/html": [
       "<div>\n",
       "<style scoped>\n",
       "    .dataframe tbody tr th:only-of-type {\n",
       "        vertical-align: middle;\n",
       "    }\n",
       "\n",
       "    .dataframe tbody tr th {\n",
       "        vertical-align: top;\n",
       "    }\n",
       "\n",
       "    .dataframe thead th {\n",
       "        text-align: right;\n",
       "    }\n",
       "</style>\n",
       "<table border=\"1\" class=\"dataframe\">\n",
       "  <thead>\n",
       "    <tr style=\"text-align: right;\">\n",
       "      <th></th>\n",
       "      <th>REGIONC</th>\n",
       "      <th>DIVISION</th>\n",
       "      <th>METROMICRO</th>\n",
       "      <th>UATYP10</th>\n",
       "      <th>TYPEHUQ</th>\n",
       "      <th>ZTYPEHUQ</th>\n",
       "      <th>CELLAR</th>\n",
       "      <th>ZCELLAR</th>\n",
       "      <th>BASEFIN</th>\n",
       "      <th>ZBASEFIN</th>\n",
       "      <th>...</th>\n",
       "      <th>ZELAMOUNT</th>\n",
       "      <th>NGXBTU</th>\n",
       "      <th>PERIODNG</th>\n",
       "      <th>ZNGAMOUNT</th>\n",
       "      <th>FOXBTU</th>\n",
       "      <th>PERIODFO</th>\n",
       "      <th>ZFOAMOUNT</th>\n",
       "      <th>LPXBTU</th>\n",
       "      <th>PERIODLP</th>\n",
       "      <th>ZLPAMOUNT</th>\n",
       "    </tr>\n",
       "    <tr>\n",
       "      <th>DOEID</th>\n",
       "      <th></th>\n",
       "      <th></th>\n",
       "      <th></th>\n",
       "      <th></th>\n",
       "      <th></th>\n",
       "      <th></th>\n",
       "      <th></th>\n",
       "      <th></th>\n",
       "      <th></th>\n",
       "      <th></th>\n",
       "      <th></th>\n",
       "      <th></th>\n",
       "      <th></th>\n",
       "      <th></th>\n",
       "      <th></th>\n",
       "      <th></th>\n",
       "      <th></th>\n",
       "      <th></th>\n",
       "      <th></th>\n",
       "      <th></th>\n",
       "      <th></th>\n",
       "    </tr>\n",
       "  </thead>\n",
       "  <tbody>\n",
       "    <tr>\n",
       "      <th>10001</th>\n",
       "      <td>4</td>\n",
       "      <td>10</td>\n",
       "      <td>METRO</td>\n",
       "      <td>U</td>\n",
       "      <td>2</td>\n",
       "      <td>0</td>\n",
       "      <td>0</td>\n",
       "      <td>0</td>\n",
       "      <td>-2</td>\n",
       "      <td>-2</td>\n",
       "      <td>...</td>\n",
       "      <td>0</td>\n",
       "      <td>103.32</td>\n",
       "      <td>1</td>\n",
       "      <td>0</td>\n",
       "      <td>137.45</td>\n",
       "      <td>-2</td>\n",
       "      <td>-2</td>\n",
       "      <td>91.33</td>\n",
       "      <td>-2</td>\n",
       "      <td>-2</td>\n",
       "    </tr>\n",
       "    <tr>\n",
       "      <th>10002</th>\n",
       "      <td>3</td>\n",
       "      <td>7</td>\n",
       "      <td>NONE</td>\n",
       "      <td>R</td>\n",
       "      <td>2</td>\n",
       "      <td>0</td>\n",
       "      <td>0</td>\n",
       "      <td>0</td>\n",
       "      <td>-2</td>\n",
       "      <td>-2</td>\n",
       "      <td>...</td>\n",
       "      <td>1</td>\n",
       "      <td>NaN</td>\n",
       "      <td>-2</td>\n",
       "      <td>-2</td>\n",
       "      <td>137.45</td>\n",
       "      <td>-2</td>\n",
       "      <td>-2</td>\n",
       "      <td>91.33</td>\n",
       "      <td>-2</td>\n",
       "      <td>-2</td>\n",
       "    </tr>\n",
       "    <tr>\n",
       "      <th>10003</th>\n",
       "      <td>3</td>\n",
       "      <td>6</td>\n",
       "      <td>METRO</td>\n",
       "      <td>U</td>\n",
       "      <td>2</td>\n",
       "      <td>0</td>\n",
       "      <td>1</td>\n",
       "      <td>0</td>\n",
       "      <td>1</td>\n",
       "      <td>0</td>\n",
       "      <td>...</td>\n",
       "      <td>0</td>\n",
       "      <td>100.14</td>\n",
       "      <td>1</td>\n",
       "      <td>0</td>\n",
       "      <td>137.45</td>\n",
       "      <td>-2</td>\n",
       "      <td>-2</td>\n",
       "      <td>91.33</td>\n",
       "      <td>-2</td>\n",
       "      <td>-2</td>\n",
       "    </tr>\n",
       "    <tr>\n",
       "      <th>10004</th>\n",
       "      <td>2</td>\n",
       "      <td>4</td>\n",
       "      <td>MICRO</td>\n",
       "      <td>C</td>\n",
       "      <td>2</td>\n",
       "      <td>0</td>\n",
       "      <td>1</td>\n",
       "      <td>0</td>\n",
       "      <td>1</td>\n",
       "      <td>0</td>\n",
       "      <td>...</td>\n",
       "      <td>0</td>\n",
       "      <td>NaN</td>\n",
       "      <td>-2</td>\n",
       "      <td>-2</td>\n",
       "      <td>137.45</td>\n",
       "      <td>-2</td>\n",
       "      <td>-2</td>\n",
       "      <td>91.33</td>\n",
       "      <td>2</td>\n",
       "      <td>0</td>\n",
       "    </tr>\n",
       "    <tr>\n",
       "      <th>10005</th>\n",
       "      <td>1</td>\n",
       "      <td>2</td>\n",
       "      <td>METRO</td>\n",
       "      <td>U</td>\n",
       "      <td>2</td>\n",
       "      <td>0</td>\n",
       "      <td>1</td>\n",
       "      <td>0</td>\n",
       "      <td>0</td>\n",
       "      <td>0</td>\n",
       "      <td>...</td>\n",
       "      <td>0</td>\n",
       "      <td>102.83</td>\n",
       "      <td>1</td>\n",
       "      <td>0</td>\n",
       "      <td>137.45</td>\n",
       "      <td>-2</td>\n",
       "      <td>-2</td>\n",
       "      <td>91.33</td>\n",
       "      <td>-2</td>\n",
       "      <td>-2</td>\n",
       "    </tr>\n",
       "  </tbody>\n",
       "</table>\n",
       "<p>5 rows × 758 columns</p>\n",
       "</div>"
      ],
      "text/plain": [
       "       REGIONC  DIVISION METROMICRO UATYP10  TYPEHUQ  ZTYPEHUQ  CELLAR  \\\n",
       "DOEID                                                                    \n",
       "10001        4        10      METRO       U        2         0       0   \n",
       "10002        3         7       NONE       R        2         0       0   \n",
       "10003        3         6      METRO       U        2         0       1   \n",
       "10004        2         4      MICRO       C        2         0       1   \n",
       "10005        1         2      METRO       U        2         0       1   \n",
       "\n",
       "       ZCELLAR  BASEFIN  ZBASEFIN  ...  ZELAMOUNT  NGXBTU  PERIODNG  \\\n",
       "DOEID                              ...                                \n",
       "10001        0       -2        -2  ...          0  103.32         1   \n",
       "10002        0       -2        -2  ...          1     NaN        -2   \n",
       "10003        0        1         0  ...          0  100.14         1   \n",
       "10004        0        1         0  ...          0     NaN        -2   \n",
       "10005        0        0         0  ...          0  102.83         1   \n",
       "\n",
       "       ZNGAMOUNT  FOXBTU  PERIODFO  ZFOAMOUNT  LPXBTU  PERIODLP  ZLPAMOUNT  \n",
       "DOEID                                                                       \n",
       "10001          0  137.45        -2         -2   91.33        -2         -2  \n",
       "10002         -2  137.45        -2         -2   91.33        -2         -2  \n",
       "10003          0  137.45        -2         -2   91.33        -2         -2  \n",
       "10004         -2  137.45        -2         -2   91.33         2          0  \n",
       "10005          0  137.45        -2         -2   91.33        -2         -2  \n",
       "\n",
       "[5 rows x 758 columns]"
      ]
     },
     "execution_count": 2,
     "metadata": {},
     "output_type": "execute_result"
    }
   ],
   "source": [
    "# Data Collection\n",
    "# Data files and codebook from: https://www.eia.gov/consumption/residential/data/2015/index.php?view=microdata\n",
    "\n",
    "# Load and Preview DataFrame\n",
    "df = pd.read_csv('recs2015.csv')\n",
    "df = df.set_index(['DOEID'])\n",
    "print(df.shape)\n",
    "df.head()"
   ]
  },
  {
   "cell_type": "code",
   "execution_count": 3,
   "metadata": {},
   "outputs": [],
   "source": [
    "# Create feature for electric rate; total electric\n",
    "df['ELRATE'] = df['DOLLAREL']/df['KWH']"
   ]
  },
  {
   "cell_type": "markdown",
   "metadata": {},
   "source": [
    "### Exploratory Data Analysis"
   ]
  },
  {
   "cell_type": "code",
   "execution_count": 4,
   "metadata": {},
   "outputs": [
    {
     "data": {
      "text/plain": [
       "NGXBTU    2382\n",
       "dtype: int64"
      ]
     },
     "execution_count": 4,
     "metadata": {},
     "output_type": "execute_result"
    }
   ],
   "source": [
    "# check missing values\n",
    "missing = df.isna().sum()\n",
    "missing[missing > 0]"
   ]
  },
  {
   "cell_type": "code",
   "execution_count": 5,
   "metadata": {},
   "outputs": [
    {
     "data": {
      "text/plain": [
       "Text(0, 0.5, 'Home Count')"
      ]
     },
     "execution_count": 5,
     "metadata": {},
     "output_type": "execute_result"
    },
    {
     "data": {
      "image/png": "[encoded data removed]",
      "text/plain": [
       "<Figure size 360x216 with 1 Axes>"
      ]
     },
     "metadata": {
      "needs_background": "light"
     },
     "output_type": "display_data"
    }
   ],
   "source": [
    "plt.figure(figsize=(5,3))\n",
    "df['KWH'].hist()\n",
    "plt.xlabel('Annual KWH')\n",
    "plt.ylabel('Home Count')"
   ]
  },
  {
   "cell_type": "code",
   "execution_count": 6,
   "metadata": {},
   "outputs": [
    {
     "data": {
      "text/html": [
       "<div>\n",
       "<style scoped>\n",
       "    .dataframe tbody tr th:only-of-type {\n",
       "        vertical-align: middle;\n",
       "    }\n",
       "\n",
       "    .dataframe tbody tr th {\n",
       "        vertical-align: top;\n",
       "    }\n",
       "\n",
       "    .dataframe thead th {\n",
       "        text-align: right;\n",
       "    }\n",
       "</style>\n",
       "<table border=\"1\" class=\"dataframe\">\n",
       "  <thead>\n",
       "    <tr style=\"text-align: right;\">\n",
       "      <th></th>\n",
       "      <th>KWH</th>\n",
       "      <th>TOTSQFT_EN</th>\n",
       "    </tr>\n",
       "    <tr>\n",
       "      <th>DOEID</th>\n",
       "      <th></th>\n",
       "      <th></th>\n",
       "    </tr>\n",
       "  </thead>\n",
       "  <tbody>\n",
       "    <tr>\n",
       "      <th>10825</th>\n",
       "      <td>59.078</td>\n",
       "      <td>768</td>\n",
       "    </tr>\n",
       "    <tr>\n",
       "      <th>12538</th>\n",
       "      <td>186.500</td>\n",
       "      <td>835</td>\n",
       "    </tr>\n",
       "    <tr>\n",
       "      <th>13365</th>\n",
       "      <td>109.157</td>\n",
       "      <td>413</td>\n",
       "    </tr>\n",
       "    <tr>\n",
       "      <th>14408</th>\n",
       "      <td>277.000</td>\n",
       "      <td>221</td>\n",
       "    </tr>\n",
       "  </tbody>\n",
       "</table>\n",
       "</div>"
      ],
      "text/plain": [
       "           KWH  TOTSQFT_EN\n",
       "DOEID                     \n",
       "10825   59.078         768\n",
       "12538  186.500         835\n",
       "13365  109.157         413\n",
       "14408  277.000         221"
      ]
     },
     "execution_count": 6,
     "metadata": {},
     "output_type": "execute_result"
    }
   ],
   "source": [
    "# Low KWH\n",
    "df[['KWH','TOTSQFT_EN']][df['KWH']<500]"
   ]
  },
  {
   "cell_type": "code",
   "execution_count": 7,
   "metadata": {},
   "outputs": [
    {
     "data": {
      "text/html": [
       "<div>\n",
       "<style scoped>\n",
       "    .dataframe tbody tr th:only-of-type {\n",
       "        vertical-align: middle;\n",
       "    }\n",
       "\n",
       "    .dataframe tbody tr th {\n",
       "        vertical-align: top;\n",
       "    }\n",
       "\n",
       "    .dataframe thead th {\n",
       "        text-align: right;\n",
       "    }\n",
       "</style>\n",
       "<table border=\"1\" class=\"dataframe\">\n",
       "  <thead>\n",
       "    <tr style=\"text-align: right;\">\n",
       "      <th></th>\n",
       "      <th>KWH</th>\n",
       "      <th>TOTSQFT_EN</th>\n",
       "    </tr>\n",
       "    <tr>\n",
       "      <th>DOEID</th>\n",
       "      <th></th>\n",
       "      <th></th>\n",
       "    </tr>\n",
       "  </thead>\n",
       "  <tbody>\n",
       "    <tr>\n",
       "      <th>10740</th>\n",
       "      <td>61632.172</td>\n",
       "      <td>7830</td>\n",
       "    </tr>\n",
       "    <tr>\n",
       "      <th>11026</th>\n",
       "      <td>57985.824</td>\n",
       "      <td>3138</td>\n",
       "    </tr>\n",
       "    <tr>\n",
       "      <th>11090</th>\n",
       "      <td>63216.806</td>\n",
       "      <td>5518</td>\n",
       "    </tr>\n",
       "    <tr>\n",
       "      <th>11969</th>\n",
       "      <td>57071.757</td>\n",
       "      <td>5733</td>\n",
       "    </tr>\n",
       "    <tr>\n",
       "      <th>13573</th>\n",
       "      <td>61056.868</td>\n",
       "      <td>2924</td>\n",
       "    </tr>\n",
       "    <tr>\n",
       "      <th>13835</th>\n",
       "      <td>57727.029</td>\n",
       "      <td>5040</td>\n",
       "    </tr>\n",
       "  </tbody>\n",
       "</table>\n",
       "</div>"
      ],
      "text/plain": [
       "             KWH  TOTSQFT_EN\n",
       "DOEID                       \n",
       "10740  61632.172        7830\n",
       "11026  57985.824        3138\n",
       "11090  63216.806        5518\n",
       "11969  57071.757        5733\n",
       "13573  61056.868        2924\n",
       "13835  57727.029        5040"
      ]
     },
     "execution_count": 7,
     "metadata": {},
     "output_type": "execute_result"
    }
   ],
   "source": [
    "# High KWH\n",
    "df[['KWH','TOTSQFT_EN']][df['KWH']>55000]"
   ]
  },
  {
   "cell_type": "code",
   "execution_count": 8,
   "metadata": {},
   "outputs": [
    {
     "data": {
      "text/plain": [
       "<AxesSubplot:xlabel='BEDROOMS', ylabel='KWH'>"
      ]
     },
     "execution_count": 8,
     "metadata": {},
     "output_type": "execute_result"
    },
    {
     "data": {
      "image/png": "[encoded data removed]",
      "text/plain": [
       "<Figure size 432x288 with 1 Axes>"
      ]
     },
     "metadata": {
      "needs_background": "light"
     },
     "output_type": "display_data"
    }
   ],
   "source": [
    "sns.boxplot(x=df['BEDROOMS'],y=df['KWH'])"
   ]
  },
  {
   "cell_type": "code",
   "execution_count": 9,
   "metadata": {},
   "outputs": [
    {
     "data": {
      "text/plain": [
       "<AxesSubplot:xlabel='YEARMADERANGE', ylabel='KWH'>"
      ]
     },
     "execution_count": 9,
     "metadata": {},
     "output_type": "execute_result"
    },
    {
     "data": {
      "image/png": "[encoded data removed]",
      "text/plain": [
       "<Figure size 432x288 with 1 Axes>"
      ]
     },
     "metadata": {
      "needs_background": "light"
     },
     "output_type": "display_data"
    }
   ],
   "source": [
    "sns.boxplot(x=df['YEARMADERANGE'],y=df['KWH'])"
   ]
  },
  {
   "cell_type": "code",
   "execution_count": 10,
   "metadata": {},
   "outputs": [
    {
     "data": {
      "text/plain": [
       "<AxesSubplot:xlabel='REGIONC', ylabel='KWH'>"
      ]
     },
     "execution_count": 10,
     "metadata": {},
     "output_type": "execute_result"
    },
    {
     "data": {
      "image/png": "[encoded data removed]",
      "text/plain": [
       "<Figure size 432x288 with 1 Axes>"
      ]
     },
     "metadata": {
      "needs_background": "light"
     },
     "output_type": "display_data"
    }
   ],
   "source": [
    "sns.boxplot(x=df['REGIONC'],y=df['KWH'])"
   ]
  },
  {
   "cell_type": "code",
   "execution_count": 11,
   "metadata": {},
   "outputs": [
    {
     "data": {
      "image/png": "[encoded data removed]",
      "text/plain": [
       "<Figure size 432x288 with 1 Axes>"
      ]
     },
     "metadata": {
      "needs_background": "light"
     },
     "output_type": "display_data"
    },
    {
     "data": {
      "text/plain": [
       "<Figure size 2160x2160 with 0 Axes>"
      ]
     },
     "metadata": {},
     "output_type": "display_data"
    },
    {
     "data": {
      "text/html": [
       "<div>\n",
       "<style scoped>\n",
       "    .dataframe tbody tr th:only-of-type {\n",
       "        vertical-align: middle;\n",
       "    }\n",
       "\n",
       "    .dataframe tbody tr th {\n",
       "        vertical-align: top;\n",
       "    }\n",
       "\n",
       "    .dataframe thead th {\n",
       "        text-align: right;\n",
       "    }\n",
       "</style>\n",
       "<table border=\"1\" class=\"dataframe\">\n",
       "  <thead>\n",
       "    <tr style=\"text-align: right;\">\n",
       "      <th></th>\n",
       "      <th>WALLTYPE_1</th>\n",
       "      <th>WALLTYPE_2</th>\n",
       "      <th>WALLTYPE_3</th>\n",
       "      <th>WALLTYPE_4</th>\n",
       "      <th>WALLTYPE_5</th>\n",
       "      <th>WALLTYPE_6</th>\n",
       "      <th>WALLTYPE_7</th>\n",
       "      <th>WALLTYPE_9</th>\n",
       "      <th>ROOFTYPE_-2</th>\n",
       "      <th>ROOFTYPE_1</th>\n",
       "      <th>ROOFTYPE_2</th>\n",
       "      <th>ROOFTYPE_3</th>\n",
       "      <th>ROOFTYPE_4</th>\n",
       "      <th>ROOFTYPE_5</th>\n",
       "      <th>ROOFTYPE_7</th>\n",
       "      <th>ROOFTYPE_9</th>\n",
       "    </tr>\n",
       "    <tr>\n",
       "      <th>DOEID</th>\n",
       "      <th></th>\n",
       "      <th></th>\n",
       "      <th></th>\n",
       "      <th></th>\n",
       "      <th></th>\n",
       "      <th></th>\n",
       "      <th></th>\n",
       "      <th></th>\n",
       "      <th></th>\n",
       "      <th></th>\n",
       "      <th></th>\n",
       "      <th></th>\n",
       "      <th></th>\n",
       "      <th></th>\n",
       "      <th></th>\n",
       "      <th></th>\n",
       "    </tr>\n",
       "  </thead>\n",
       "  <tbody>\n",
       "    <tr>\n",
       "      <th>10001</th>\n",
       "      <td>0</td>\n",
       "      <td>0</td>\n",
       "      <td>0</td>\n",
       "      <td>1</td>\n",
       "      <td>0</td>\n",
       "      <td>0</td>\n",
       "      <td>0</td>\n",
       "      <td>0</td>\n",
       "      <td>0</td>\n",
       "      <td>1</td>\n",
       "      <td>0</td>\n",
       "      <td>0</td>\n",
       "      <td>0</td>\n",
       "      <td>0</td>\n",
       "      <td>0</td>\n",
       "      <td>0</td>\n",
       "    </tr>\n",
       "    <tr>\n",
       "      <th>10002</th>\n",
       "      <td>0</td>\n",
       "      <td>0</td>\n",
       "      <td>1</td>\n",
       "      <td>0</td>\n",
       "      <td>0</td>\n",
       "      <td>0</td>\n",
       "      <td>0</td>\n",
       "      <td>0</td>\n",
       "      <td>0</td>\n",
       "      <td>0</td>\n",
       "      <td>0</td>\n",
       "      <td>1</td>\n",
       "      <td>0</td>\n",
       "      <td>0</td>\n",
       "      <td>0</td>\n",
       "      <td>0</td>\n",
       "    </tr>\n",
       "    <tr>\n",
       "      <th>10003</th>\n",
       "      <td>0</td>\n",
       "      <td>1</td>\n",
       "      <td>0</td>\n",
       "      <td>0</td>\n",
       "      <td>0</td>\n",
       "      <td>0</td>\n",
       "      <td>0</td>\n",
       "      <td>0</td>\n",
       "      <td>0</td>\n",
       "      <td>0</td>\n",
       "      <td>0</td>\n",
       "      <td>0</td>\n",
       "      <td>0</td>\n",
       "      <td>1</td>\n",
       "      <td>0</td>\n",
       "      <td>0</td>\n",
       "    </tr>\n",
       "    <tr>\n",
       "      <th>10004</th>\n",
       "      <td>0</td>\n",
       "      <td>0</td>\n",
       "      <td>1</td>\n",
       "      <td>0</td>\n",
       "      <td>0</td>\n",
       "      <td>0</td>\n",
       "      <td>0</td>\n",
       "      <td>0</td>\n",
       "      <td>0</td>\n",
       "      <td>0</td>\n",
       "      <td>0</td>\n",
       "      <td>0</td>\n",
       "      <td>0</td>\n",
       "      <td>1</td>\n",
       "      <td>0</td>\n",
       "      <td>0</td>\n",
       "    </tr>\n",
       "    <tr>\n",
       "      <th>10005</th>\n",
       "      <td>1</td>\n",
       "      <td>0</td>\n",
       "      <td>0</td>\n",
       "      <td>0</td>\n",
       "      <td>0</td>\n",
       "      <td>0</td>\n",
       "      <td>0</td>\n",
       "      <td>0</td>\n",
       "      <td>0</td>\n",
       "      <td>0</td>\n",
       "      <td>0</td>\n",
       "      <td>0</td>\n",
       "      <td>0</td>\n",
       "      <td>1</td>\n",
       "      <td>0</td>\n",
       "      <td>0</td>\n",
       "    </tr>\n",
       "  </tbody>\n",
       "</table>\n",
       "</div>"
      ],
      "text/plain": [
       "       WALLTYPE_1  WALLTYPE_2  WALLTYPE_3  WALLTYPE_4  WALLTYPE_5  WALLTYPE_6  \\\n",
       "DOEID                                                                           \n",
       "10001           0           0           0           1           0           0   \n",
       "10002           0           0           1           0           0           0   \n",
       "10003           0           1           0           0           0           0   \n",
       "10004           0           0           1           0           0           0   \n",
       "10005           1           0           0           0           0           0   \n",
       "\n",
       "       WALLTYPE_7  WALLTYPE_9  ROOFTYPE_-2  ROOFTYPE_1  ROOFTYPE_2  \\\n",
       "DOEID                                                                \n",
       "10001           0           0            0           1           0   \n",
       "10002           0           0            0           0           0   \n",
       "10003           0           0            0           0           0   \n",
       "10004           0           0            0           0           0   \n",
       "10005           0           0            0           0           0   \n",
       "\n",
       "       ROOFTYPE_3  ROOFTYPE_4  ROOFTYPE_5  ROOFTYPE_7  ROOFTYPE_9  \n",
       "DOEID                                                              \n",
       "10001           0           0           0           0           0  \n",
       "10002           1           0           0           0           0  \n",
       "10003           0           0           1           0           0  \n",
       "10004           0           0           1           0           0  \n",
       "10005           0           0           1           0           0  "
      ]
     },
     "execution_count": 11,
     "metadata": {},
     "output_type": "execute_result"
    }
   ],
   "source": [
    "# Perform hierarchial clustering on building properties\n",
    "from scipy.cluster.hierarchy import linkage, dendrogram\n",
    "from sklearn.preprocessing import normalize\n",
    "\n",
    "X0 = pd.get_dummies(df[['WALLTYPE', 'ROOFTYPE']].astype(str))\n",
    "\n",
    "mergings = linkage(X0.T, method='single')\n",
    "dendrogram(mergings, labels=X0.columns, leaf_rotation=0, leaf_font_size=3, orientation='right')\n",
    "plt.figure(figsize=(30,30))\n",
    "plt.show()\n",
    "plt.rcParams['figure.dpi'] = 150\n",
    "X0.head()"
   ]
  },
  {
   "cell_type": "markdown",
   "metadata": {},
   "source": [
    "### Data Cleaning"
   ]
  },
  {
   "cell_type": "markdown",
   "metadata": {},
   "source": [
    "#### -->Eliminate Extraneous Features"
   ]
  },
  {
   "cell_type": "code",
   "execution_count": 12,
   "metadata": {},
   "outputs": [],
   "source": [
    "# Read in lists of non-predictive features\n",
    "impute0 = pd.read_excel('Data Cleaning/imputation_flags.xlsx')['Variable']\n",
    "conversion0 = pd.read_excel('Data Cleaning/conversion_factors.xlsx')['Variable']\n",
    "other_utilities0 = pd.read_excel('Data Cleaning/other_utilities.xlsx')['Variable']\n",
    "estimators0 = pd.read_excel('Data Cleaning/statistical_estimators.xlsx')['Variable']\n",
    "utility_costs0 = pd.read_excel('Data Cleaning/utility_costs.xlsx')['Variable']\n",
    "miscellaneous0 = pd.read_excel('Data Cleaning/miscellaneous_not_used.xlsx')['Variable']\n",
    "redundant0 = pd.read_excel('Data Cleaning/redundant_vars.xlsx')['Variable']\n",
    "detailed0 = pd.read_excel('Data Cleaning/detailed_audit.xlsx')['Variable']"
   ]
  },
  {
   "cell_type": "code",
   "execution_count": 14,
   "metadata": {},
   "outputs": [],
   "source": [
    "# Combine nonpredictive features into a single list\n",
    "nonpredict = np.concatenate((impute0, conversion0, other_utilities0, estimators0, utility_costs0, miscellaneous0, redundant0, detailed0), axis=0)"
   ]
  },
  {
   "cell_type": "code",
   "execution_count": 16,
   "metadata": {},
   "outputs": [],
   "source": [
    "# Drop nonpredictive features\n",
    "df = df.drop(nonpredict, axis=1)"
   ]
  },
  {
   "cell_type": "markdown",
   "metadata": {},
   "source": [
    "#### -->Inspect Resulting Dataframe"
   ]
  },
  {
   "cell_type": "code",
   "execution_count": 17,
   "metadata": {},
   "outputs": [],
   "source": [
    "# Count missing values: {'Not applicable': -2, 'Don't Know': -9, 'Refuse': -8}\n",
    "\n",
    "# Create mask for each type of missing value\n",
    "na_mask = df.apply(lambda x: x==-2)\n",
    "dk_mask = df.apply(lambda x: x==-9)\n",
    "refuse_mask = df.apply(lambda x: x==-8)"
   ]
  },
  {
   "cell_type": "code",
   "execution_count": 18,
   "metadata": {},
   "outputs": [
    {
     "name": "stdout",
     "output_type": "stream",
     "text": [
      "99 columns containing \"Not applicable\" values.\n",
      "19 columns containing \"Dont know\" values.\n",
      "16 columns containing \"Refuse\" values.\n"
     ]
    }
   ],
   "source": [
    "# Count number of instances where mask is True, then filter out columns with no missing values\n",
    "na = df[na_mask].count()[df[na_mask].count() > 0]\n",
    "dk = df[dk_mask].count()[df[dk_mask].count() > 0]\n",
    "refuse = df[refuse_mask].count()[df[refuse_mask].count() > 0]\n",
    "\n",
    "print(str(len(na.index)) + ' columns containing \\\"Not applicable\\\" values.')\n",
    "print(str(len(dk.index)) + ' columns containing \\\"Dont know\\\" values.')\n",
    "print(str(len(refuse.index)) + ' columns containing \\\"Refuse\\\" values.')"
   ]
  },
  {
   "cell_type": "markdown",
   "metadata": {},
   "source": [
    "#### -->Replace Negative Variables"
   ]
  },
  {
   "cell_type": "code",
   "execution_count": 19,
   "metadata": {},
   "outputs": [],
   "source": [
    "# Replace negative values for binary variables (i.e. where negatives are \"not applicable\")\n",
    "# Read in binary variables\n",
    "binaryvars = pd.read_excel('Data Cleaning/binary_vars.xlsx')['Variable']\n",
    "\n",
    "# Filter out negative values (\"Not applicable\" means approximately the same as \"no\" or \"does not have\")\n",
    "df[binaryvars] = df[binaryvars].apply(lambda x: (x>0)*x)"
   ]
  },
  {
   "cell_type": "markdown",
   "metadata": {},
   "source": [
    "#### -->Make Categorical Variables Dummy Variables"
   ]
  },
  {
   "cell_type": "code",
   "execution_count": 20,
   "metadata": {},
   "outputs": [],
   "source": [
    "# Create dummy variables for columns with missing answers, making the missing values the base case.\n",
    "\n",
    "# Read in list of categorical variables\n",
    "cat_vars = pd.read_excel('Data Cleaning/categorical_vars.xlsx')['Variable']"
   ]
  },
  {
   "cell_type": "code",
   "execution_count": 21,
   "metadata": {},
   "outputs": [],
   "source": [
    "df = pd.get_dummies(df.astype(str), columns=cat_vars, drop_first=True, prefix=cat_vars).astype('float64')"
   ]
  },
  {
   "cell_type": "code",
   "execution_count": 22,
   "metadata": {},
   "outputs": [
    {
     "name": "stdout",
     "output_type": "stream",
     "text": [
      "0\n"
     ]
    },
    {
     "data": {
      "text/plain": [
       "(5686, 309)"
      ]
     },
     "execution_count": 22,
     "metadata": {},
     "output_type": "execute_result"
    }
   ],
   "source": [
    "# Check missing values\n",
    "print(df.isna().sum().max())\n",
    "\n",
    "# Inspect DataFrame\n",
    "df.shape"
   ]
  },
  {
   "cell_type": "markdown",
   "metadata": {},
   "source": [
    "### Feature Selection"
   ]
  },
  {
   "cell_type": "code",
   "execution_count": 23,
   "metadata": {},
   "outputs": [],
   "source": [
    "# Feature Selection\n",
    "\n",
    "from sklearn.linear_model import Lasso\n",
    "from sklearn.model_selection import train_test_split"
   ]
  },
  {
   "cell_type": "code",
   "execution_count": 24,
   "metadata": {},
   "outputs": [],
   "source": [
    "# Split Data\n",
    "X = df.drop('KWH', axis=1)\n",
    "names = df.drop('KWH', axis=1).columns\n",
    "y = df['KWH']"
   ]
  },
  {
   "cell_type": "markdown",
   "metadata": {},
   "source": [
    "#### -->Lasso Regression"
   ]
  },
  {
   "cell_type": "code",
   "execution_count": 25,
   "metadata": {},
   "outputs": [
    {
     "name": "stdout",
     "output_type": "stream",
     "text": [
      "Index(['BEDROOMS', 'NCOMBATH', 'NHAFBATH', 'TOTROOMS', 'WINDOWS', 'SWIMPOOL',\n",
      "       'MONPOOL', 'MONTUB', 'BACKUP', 'NUMFRIG', 'NUMFREEZ', 'OVEN',\n",
      "       'OUTGRILL', 'DWASHUSE', 'WASHLOAD', 'DRYRUSE', 'TVONWE1', 'TVONWD2',\n",
      "       'INWIRELESS', 'CENACHP', 'NUMBERAC', 'GARGCOOL', 'NUMCFAN',\n",
      "       'MORETHAN1H2O', 'LGTIN4', 'NHSLDMEM', 'NUMADULT', 'MONEYPY', 'SCALEB',\n",
      "       'PAYHELP', 'ELWARM', 'ELFOOD', 'TOTCSQFT', 'TOTSQFT_EN', 'CDD30YR',\n",
      "       'CDD65', 'OA_LAT', 'REGIONC_3', 'UATYP10_R', 'TYPEHUQ_2', 'ROOFTYPE_3',\n",
      "       'ROOFTYPE_4', 'FUELPOOL_5', 'FUELTUB_21', 'FUELTUB_5', 'DRYRFUEL_5',\n",
      "       'FUELHEAT_5', 'COOLTYPE_3', 'FUELH2O_5', 'WHEATSIZ_3', 'FUELH2O2_5',\n",
      "       'IECC_CLIMATE_PUB_4A', 'IECC_CLIMATE_PUB_4C', 'WWACAGE_41'],\n",
      "      dtype='object')\n"
     ]
    },
    {
     "data": {
      "text/plain": [
       "54"
      ]
     },
     "execution_count": 25,
     "metadata": {},
     "output_type": "execute_result"
    }
   ],
   "source": [
    "# Lasso: Select Features\n",
    "\n",
    "lasso = Lasso(alpha=2, max_iter=1000, normalize=True)\n",
    "lasso_coef = lasso.fit(X,y).coef_\n",
    "coef = pd.DataFrame(lasso_coef, names)\n",
    "coef_names = coef[coef[0]>0].index\n",
    "print(coef_names)\n",
    "len(coef_names)"
   ]
  },
  {
   "cell_type": "code",
   "execution_count": 26,
   "metadata": {},
   "outputs": [
    {
     "data": {
      "text/plain": [
       "0.6277646318987413"
      ]
     },
     "execution_count": 26,
     "metadata": {},
     "output_type": "execute_result"
    }
   ],
   "source": [
    "# Lasso: Regression\n",
    "\n",
    "X_train, X_test, y_train, y_test = train_test_split(X, y, test_size=0.3, random_state = 41)\n",
    "model = lasso.fit(X_train, y_train)\n",
    "y_pred = lasso.predict(X_test)\n",
    "lasso.score(X_test, y_test)"
   ]
  },
  {
   "cell_type": "code",
   "execution_count": 27,
   "metadata": {},
   "outputs": [
    {
     "name": "stdout",
     "output_type": "stream",
     "text": [
      "0.6199199752568768\n"
     ]
    }
   ],
   "source": [
    "# Perform cross validation\n",
    "from sklearn.model_selection import cross_val_score\n",
    "\n",
    "cv_results = cross_val_score(lasso, X, y, cv=5)\n",
    "lasso_eval = np.mean(cv_results)\n",
    "print(lasso_eval)"
   ]
  },
  {
   "cell_type": "code",
   "execution_count": 28,
   "metadata": {},
   "outputs": [
    {
     "data": {
      "text/plain": [
       "array([[1.        , 0.79242814],\n",
       "       [0.79242814, 1.        ]])"
      ]
     },
     "execution_count": 28,
     "metadata": {},
     "output_type": "execute_result"
    }
   ],
   "source": [
    "#Correlation\n",
    "np.corrcoef(y_pred, y_test)"
   ]
  },
  {
   "cell_type": "code",
   "execution_count": 29,
   "metadata": {},
   "outputs": [
    {
     "data": {
      "text/html": [
       "<div>\n",
       "<style scoped>\n",
       "    .dataframe tbody tr th:only-of-type {\n",
       "        vertical-align: middle;\n",
       "    }\n",
       "\n",
       "    .dataframe tbody tr th {\n",
       "        vertical-align: top;\n",
       "    }\n",
       "\n",
       "    .dataframe thead th {\n",
       "        text-align: right;\n",
       "    }\n",
       "</style>\n",
       "<table border=\"1\" class=\"dataframe\">\n",
       "  <thead>\n",
       "    <tr style=\"text-align: right;\">\n",
       "      <th></th>\n",
       "      <th>Feature</th>\n",
       "      <th>Coefficient</th>\n",
       "    </tr>\n",
       "  </thead>\n",
       "  <tbody>\n",
       "    <tr>\n",
       "      <th>202</th>\n",
       "      <td>FUELTUB_21</td>\n",
       "      <td>9472.380974</td>\n",
       "    </tr>\n",
       "    <tr>\n",
       "      <th>239</th>\n",
       "      <td>FUELHEAT_5</td>\n",
       "      <td>2373.053075</td>\n",
       "    </tr>\n",
       "    <tr>\n",
       "      <th>89</th>\n",
       "      <td>MORETHAN1H2O</td>\n",
       "      <td>2049.300906</td>\n",
       "    </tr>\n",
       "    <tr>\n",
       "      <th>260</th>\n",
       "      <td>FUELH2O_8</td>\n",
       "      <td>1979.144410</td>\n",
       "    </tr>\n",
       "    <tr>\n",
       "      <th>258</th>\n",
       "      <td>FUELH2O_5</td>\n",
       "      <td>1718.859228</td>\n",
       "    </tr>\n",
       "    <tr>\n",
       "      <th>83</th>\n",
       "      <td>GARGCOOL</td>\n",
       "      <td>1123.712144</td>\n",
       "    </tr>\n",
       "    <tr>\n",
       "      <th>26</th>\n",
       "      <td>NUMFRIG</td>\n",
       "      <td>1115.472923</td>\n",
       "    </tr>\n",
       "    <tr>\n",
       "      <th>160</th>\n",
       "      <td>REGIONC_3</td>\n",
       "      <td>1043.578942</td>\n",
       "    </tr>\n",
       "    <tr>\n",
       "      <th>27</th>\n",
       "      <td>NUMFREEZ</td>\n",
       "      <td>1036.612560</td>\n",
       "    </tr>\n",
       "    <tr>\n",
       "      <th>164</th>\n",
       "      <td>UATYP10_R</td>\n",
       "      <td>805.118347</td>\n",
       "    </tr>\n",
       "    <tr>\n",
       "      <th>254</th>\n",
       "      <td>COOLTYPE_3</td>\n",
       "      <td>794.743891</td>\n",
       "    </tr>\n",
       "    <tr>\n",
       "      <th>281</th>\n",
       "      <td>IECC_CLIMATE_PUB_4A</td>\n",
       "      <td>627.395066</td>\n",
       "    </tr>\n",
       "    <tr>\n",
       "      <th>8</th>\n",
       "      <td>NCOMBATH</td>\n",
       "      <td>611.343639</td>\n",
       "    </tr>\n",
       "    <tr>\n",
       "      <th>24</th>\n",
       "      <td>BACKUP</td>\n",
       "      <td>571.332439</td>\n",
       "    </tr>\n",
       "    <tr>\n",
       "      <th>19</th>\n",
       "      <td>MONPOOL</td>\n",
       "      <td>475.940567</td>\n",
       "    </tr>\n",
       "    <tr>\n",
       "      <th>9</th>\n",
       "      <td>NHAFBATH</td>\n",
       "      <td>453.669774</td>\n",
       "    </tr>\n",
       "    <tr>\n",
       "      <th>181</th>\n",
       "      <td>WALLTYPE_6</td>\n",
       "      <td>440.758810</td>\n",
       "    </tr>\n",
       "    <tr>\n",
       "      <th>139</th>\n",
       "      <td>ELWARM</td>\n",
       "      <td>426.354026</td>\n",
       "    </tr>\n",
       "    <tr>\n",
       "      <th>265</th>\n",
       "      <td>WHEATSIZ_3</td>\n",
       "      <td>417.989356</td>\n",
       "    </tr>\n",
       "    <tr>\n",
       "      <th>33</th>\n",
       "      <td>OVEN</td>\n",
       "      <td>403.981530</td>\n",
       "    </tr>\n",
       "  </tbody>\n",
       "</table>\n",
       "</div>"
      ],
      "text/plain": [
       "                 Feature  Coefficient\n",
       "202           FUELTUB_21  9472.380974\n",
       "239           FUELHEAT_5  2373.053075\n",
       "89          MORETHAN1H2O  2049.300906\n",
       "260            FUELH2O_8  1979.144410\n",
       "258            FUELH2O_5  1718.859228\n",
       "83              GARGCOOL  1123.712144\n",
       "26               NUMFRIG  1115.472923\n",
       "160            REGIONC_3  1043.578942\n",
       "27              NUMFREEZ  1036.612560\n",
       "164            UATYP10_R   805.118347\n",
       "254           COOLTYPE_3   794.743891\n",
       "281  IECC_CLIMATE_PUB_4A   627.395066\n",
       "8               NCOMBATH   611.343639\n",
       "24                BACKUP   571.332439\n",
       "19               MONPOOL   475.940567\n",
       "9               NHAFBATH   453.669774\n",
       "181           WALLTYPE_6   440.758810\n",
       "139               ELWARM   426.354026\n",
       "265           WHEATSIZ_3   417.989356\n",
       "33                  OVEN   403.981530"
      ]
     },
     "execution_count": 29,
     "metadata": {},
     "output_type": "execute_result"
    }
   ],
   "source": [
    "# Inspect coefficients\n",
    "col = pd.DataFrame(X_test.columns)\n",
    "coefs = pd.DataFrame(model.coef_)\n",
    "coef_df = pd.merge(col, coefs, left_index=True, right_index=True).sort_values(by='0_y', ascending=False)\n",
    "coef_df.columns = ['Feature', 'Coefficient']\n",
    "coef_df.head(20)"
   ]
  },
  {
   "cell_type": "code",
   "execution_count": 82,
   "metadata": {},
   "outputs": [
    {
     "name": "stdout",
     "output_type": "stream",
     "text": [
      "DOEID\n",
      "13184    1.0\n",
      "Name: FUELTUB_21, dtype: float64\n"
     ]
    }
   ],
   "source": [
    "# Why is FUELTUB_21 (hot tubs heated by \"some other fuel\") most important?\n",
    "print(X_train['FUELTUB_21'][X_train['FUELTUB_21']>0])"
   ]
  },
  {
   "cell_type": "code",
   "execution_count": 30,
   "metadata": {},
   "outputs": [],
   "source": [
    "# Create DataFrame comparing LassoRegression Predicted kWh to Actual kWh\n",
    "\n",
    "predicted = pd.DataFrame(y_pred, columns=['Predicted']).set_index(y_test.index)\n",
    "results = pd.merge(predicted, y_test, left_index=True, right_index = True)\n",
    "results_sorted = results.sort_values(['KWH'])"
   ]
  },
  {
   "cell_type": "code",
   "execution_count": 31,
   "metadata": {},
   "outputs": [
    {
     "data": {
      "image/png": "[encoded data removed]",
      "text/plain": [
       "<Figure size 900x600 with 1 Axes>"
      ]
     },
     "metadata": {
      "needs_background": "light"
     },
     "output_type": "display_data"
    }
   ],
   "source": [
    "# Visually inspect results\n",
    "\n",
    "_ = plt.scatter(np.arange(len(X_test)), results_sorted['Predicted'])\n",
    "_ = plt.scatter(np.arange(len(X_test)), results_sorted['KWH'])\n",
    "plt.legend(['Predicted kWh','Actual kWh'])\n",
    "plt.title(\"Lasso Regression: Predicted and Actual kWh\")\n",
    "plt.show()"
   ]
  },
  {
   "cell_type": "markdown",
   "metadata": {},
   "source": [
    "**Reuse features from Lasso regression feature selection for other models**"
   ]
  },
  {
   "cell_type": "code",
   "execution_count": 32,
   "metadata": {},
   "outputs": [],
   "source": [
    "# Create new filtered dataframe for X\n",
    "X = df[coef_names]"
   ]
  },
  {
   "cell_type": "markdown",
   "metadata": {},
   "source": [
    "### Linear Regression"
   ]
  },
  {
   "cell_type": "code",
   "execution_count": 33,
   "metadata": {},
   "outputs": [
    {
     "data": {
      "text/plain": [
       "0.609975348390132"
      ]
     },
     "execution_count": 33,
     "metadata": {},
     "output_type": "execute_result"
    }
   ],
   "source": [
    "# Linear Regression\n",
    "\n",
    "from sklearn.linear_model import LinearRegression\n",
    "\n",
    "X_train, X_test, y_train, y_test = train_test_split(X, y, test_size=0.3, random_state = 41)\n",
    "linear = LinearRegression()\n",
    "model = linear.fit(X_train, y_train)\n",
    "y_pred = linear.predict(X_test)\n",
    "linear.score(X_test, y_test)"
   ]
  },
  {
   "cell_type": "code",
   "execution_count": 34,
   "metadata": {},
   "outputs": [
    {
     "name": "stdout",
     "output_type": "stream",
     "text": [
      "0.6079975070836949\n"
     ]
    }
   ],
   "source": [
    "# Perform cross validation\n",
    "\n",
    "cv_results = cross_val_score(linear, X, y, cv=5)\n",
    "linear_eval = np.mean(cv_results)\n",
    "print(linear_eval)"
   ]
  },
  {
   "cell_type": "code",
   "execution_count": 35,
   "metadata": {},
   "outputs": [
    {
     "data": {
      "text/plain": [
       "array([[1.        , 0.78203625],\n",
       "       [0.78203625, 1.        ]])"
      ]
     },
     "execution_count": 35,
     "metadata": {},
     "output_type": "execute_result"
    }
   ],
   "source": [
    "#Correlation\n",
    "np.corrcoef(y_pred, y_test)"
   ]
  },
  {
   "cell_type": "code",
   "execution_count": 36,
   "metadata": {},
   "outputs": [
    {
     "data": {
      "text/html": [
       "<div>\n",
       "<style scoped>\n",
       "    .dataframe tbody tr th:only-of-type {\n",
       "        vertical-align: middle;\n",
       "    }\n",
       "\n",
       "    .dataframe tbody tr th {\n",
       "        vertical-align: top;\n",
       "    }\n",
       "\n",
       "    .dataframe thead th {\n",
       "        text-align: right;\n",
       "    }\n",
       "</style>\n",
       "<table border=\"1\" class=\"dataframe\">\n",
       "  <thead>\n",
       "    <tr style=\"text-align: right;\">\n",
       "      <th></th>\n",
       "      <th>Feature</th>\n",
       "      <th>Coefficient</th>\n",
       "    </tr>\n",
       "  </thead>\n",
       "  <tbody>\n",
       "    <tr>\n",
       "      <th>43</th>\n",
       "      <td>FUELTUB_21</td>\n",
       "      <td>17636.505891</td>\n",
       "    </tr>\n",
       "    <tr>\n",
       "      <th>46</th>\n",
       "      <td>FUELHEAT_5</td>\n",
       "      <td>2588.417730</td>\n",
       "    </tr>\n",
       "    <tr>\n",
       "      <th>23</th>\n",
       "      <td>MORETHAN1H2O</td>\n",
       "      <td>2230.387057</td>\n",
       "    </tr>\n",
       "    <tr>\n",
       "      <th>21</th>\n",
       "      <td>GARGCOOL</td>\n",
       "      <td>2021.274501</td>\n",
       "    </tr>\n",
       "    <tr>\n",
       "      <th>48</th>\n",
       "      <td>FUELH2O_5</td>\n",
       "      <td>1921.860494</td>\n",
       "    </tr>\n",
       "    <tr>\n",
       "      <th>37</th>\n",
       "      <td>REGIONC_3</td>\n",
       "      <td>1667.923417</td>\n",
       "    </tr>\n",
       "    <tr>\n",
       "      <th>42</th>\n",
       "      <td>FUELPOOL_5</td>\n",
       "      <td>1450.978693</td>\n",
       "    </tr>\n",
       "    <tr>\n",
       "      <th>52</th>\n",
       "      <td>IECC_CLIMATE_PUB_4C</td>\n",
       "      <td>1421.626115</td>\n",
       "    </tr>\n",
       "    <tr>\n",
       "      <th>10</th>\n",
       "      <td>NUMFREEZ</td>\n",
       "      <td>1244.041321</td>\n",
       "    </tr>\n",
       "    <tr>\n",
       "      <th>41</th>\n",
       "      <td>ROOFTYPE_4</td>\n",
       "      <td>1188.254710</td>\n",
       "    </tr>\n",
       "    <tr>\n",
       "      <th>9</th>\n",
       "      <td>NUMFRIG</td>\n",
       "      <td>1151.513753</td>\n",
       "    </tr>\n",
       "    <tr>\n",
       "      <th>38</th>\n",
       "      <td>UATYP10_R</td>\n",
       "      <td>1126.981142</td>\n",
       "    </tr>\n",
       "    <tr>\n",
       "      <th>47</th>\n",
       "      <td>COOLTYPE_3</td>\n",
       "      <td>1039.719319</td>\n",
       "    </tr>\n",
       "    <tr>\n",
       "      <th>40</th>\n",
       "      <td>ROOFTYPE_3</td>\n",
       "      <td>1022.086078</td>\n",
       "    </tr>\n",
       "    <tr>\n",
       "      <th>51</th>\n",
       "      <td>IECC_CLIMATE_PUB_4A</td>\n",
       "      <td>859.067637</td>\n",
       "    </tr>\n",
       "    <tr>\n",
       "      <th>39</th>\n",
       "      <td>TYPEHUQ_2</td>\n",
       "      <td>811.493518</td>\n",
       "    </tr>\n",
       "    <tr>\n",
       "      <th>8</th>\n",
       "      <td>BACKUP</td>\n",
       "      <td>743.717062</td>\n",
       "    </tr>\n",
       "    <tr>\n",
       "      <th>31</th>\n",
       "      <td>ELFOOD</td>\n",
       "      <td>699.032639</td>\n",
       "    </tr>\n",
       "    <tr>\n",
       "      <th>2</th>\n",
       "      <td>NHAFBATH</td>\n",
       "      <td>667.853845</td>\n",
       "    </tr>\n",
       "    <tr>\n",
       "      <th>44</th>\n",
       "      <td>FUELTUB_5</td>\n",
       "      <td>655.454131</td>\n",
       "    </tr>\n",
       "  </tbody>\n",
       "</table>\n",
       "</div>"
      ],
      "text/plain": [
       "                Feature   Coefficient\n",
       "43           FUELTUB_21  17636.505891\n",
       "46           FUELHEAT_5   2588.417730\n",
       "23         MORETHAN1H2O   2230.387057\n",
       "21             GARGCOOL   2021.274501\n",
       "48            FUELH2O_5   1921.860494\n",
       "37            REGIONC_3   1667.923417\n",
       "42           FUELPOOL_5   1450.978693\n",
       "52  IECC_CLIMATE_PUB_4C   1421.626115\n",
       "10             NUMFREEZ   1244.041321\n",
       "41           ROOFTYPE_4   1188.254710\n",
       "9               NUMFRIG   1151.513753\n",
       "38            UATYP10_R   1126.981142\n",
       "47           COOLTYPE_3   1039.719319\n",
       "40           ROOFTYPE_3   1022.086078\n",
       "51  IECC_CLIMATE_PUB_4A    859.067637\n",
       "39            TYPEHUQ_2    811.493518\n",
       "8                BACKUP    743.717062\n",
       "31               ELFOOD    699.032639\n",
       "2              NHAFBATH    667.853845\n",
       "44            FUELTUB_5    655.454131"
      ]
     },
     "execution_count": 36,
     "metadata": {},
     "output_type": "execute_result"
    }
   ],
   "source": [
    "# Inspect coefficients\n",
    "col = pd.DataFrame(X_test.columns)\n",
    "coefs = pd.DataFrame(model.coef_)\n",
    "coef_df = pd.merge(col, coefs, left_index=True, right_index=True).sort_values(by='0_y', ascending=False)\n",
    "coef_df.columns = ['Feature', 'Coefficient']\n",
    "coef_df.head(20)"
   ]
  },
  {
   "cell_type": "code",
   "execution_count": 37,
   "metadata": {},
   "outputs": [],
   "source": [
    "# Create DataFrame comparing LinearRegression Predicted kWh to Actual kWh\n",
    "\n",
    "predicted = pd.DataFrame(y_pred, columns=['Predicted']).set_index(y_test.index)\n",
    "results = pd.merge(predicted, y_test, left_index=True, right_index = True)\n",
    "results_sorted = results.sort_values(['KWH'])"
   ]
  },
  {
   "cell_type": "code",
   "execution_count": 38,
   "metadata": {},
   "outputs": [
    {
     "data": {
      "image/png": "[encoded data removed]",
      "text/plain": [
       "<Figure size 900x600 with 1 Axes>"
      ]
     },
     "metadata": {
      "needs_background": "light"
     },
     "output_type": "display_data"
    }
   ],
   "source": [
    "# Visually inspect results\n",
    "\n",
    "_ = plt.scatter(np.arange(len(X_test)), results_sorted['Predicted'])\n",
    "_ = plt.scatter(np.arange(len(X_test)), results_sorted['KWH'])\n",
    "plt.legend(['Predicted kWh','Actual kWh'])\n",
    "plt.title(\"Linear Regression: Predicted and Actual kWh\")\n",
    "plt.show()"
   ]
  },
  {
   "cell_type": "markdown",
   "metadata": {},
   "source": [
    "### Ridge Regression"
   ]
  },
  {
   "cell_type": "code",
   "execution_count": 39,
   "metadata": {},
   "outputs": [
    {
     "data": {
      "text/plain": [
       "0.6365047448486632"
      ]
     },
     "execution_count": 39,
     "metadata": {},
     "output_type": "execute_result"
    }
   ],
   "source": [
    "# Ridge Regression\n",
    "\n",
    "from sklearn.linear_model import Ridge\n",
    "\n",
    "X_train, X_test, y_train, y_test = train_test_split(X, y, test_size = 0.3, random_state=42)\n",
    "ridge = Ridge(alpha=0.1, normalize=True)\n",
    "model = ridge.fit(X_train, y_train)\n",
    "y_pred = ridge.predict(X_test)\n",
    "ridge.score(X_test, y_test)"
   ]
  },
  {
   "cell_type": "code",
   "execution_count": 40,
   "metadata": {},
   "outputs": [
    {
     "name": "stdout",
     "output_type": "stream",
     "text": [
      "0.6088276743353143\n"
     ]
    }
   ],
   "source": [
    "# Perform cross validation\n",
    "\n",
    "cv_results = cross_val_score(ridge, X, y, cv=5)\n",
    "ridge_eval =  np.mean(cv_results)\n",
    "print(ridge_eval)"
   ]
  },
  {
   "cell_type": "code",
   "execution_count": 41,
   "metadata": {},
   "outputs": [
    {
     "data": {
      "text/plain": [
       "array([[1.        , 0.79816884],\n",
       "       [0.79816884, 1.        ]])"
      ]
     },
     "execution_count": 41,
     "metadata": {},
     "output_type": "execute_result"
    }
   ],
   "source": [
    "np.corrcoef(y_pred, y_test)"
   ]
  },
  {
   "cell_type": "code",
   "execution_count": 42,
   "metadata": {
    "scrolled": true
   },
   "outputs": [
    {
     "data": {
      "text/html": [
       "<div>\n",
       "<style scoped>\n",
       "    .dataframe tbody tr th:only-of-type {\n",
       "        vertical-align: middle;\n",
       "    }\n",
       "\n",
       "    .dataframe tbody tr th {\n",
       "        vertical-align: top;\n",
       "    }\n",
       "\n",
       "    .dataframe thead th {\n",
       "        text-align: right;\n",
       "    }\n",
       "</style>\n",
       "<table border=\"1\" class=\"dataframe\">\n",
       "  <thead>\n",
       "    <tr style=\"text-align: right;\">\n",
       "      <th></th>\n",
       "      <th>Feature</th>\n",
       "      <th>Coefficient</th>\n",
       "    </tr>\n",
       "  </thead>\n",
       "  <tbody>\n",
       "    <tr>\n",
       "      <th>43</th>\n",
       "      <td>FUELTUB_21</td>\n",
       "      <td>17018.011610</td>\n",
       "    </tr>\n",
       "    <tr>\n",
       "      <th>21</th>\n",
       "      <td>GARGCOOL</td>\n",
       "      <td>3072.800787</td>\n",
       "    </tr>\n",
       "    <tr>\n",
       "      <th>46</th>\n",
       "      <td>FUELHEAT_5</td>\n",
       "      <td>2328.312619</td>\n",
       "    </tr>\n",
       "    <tr>\n",
       "      <th>42</th>\n",
       "      <td>FUELPOOL_5</td>\n",
       "      <td>2237.268082</td>\n",
       "    </tr>\n",
       "    <tr>\n",
       "      <th>23</th>\n",
       "      <td>MORETHAN1H2O</td>\n",
       "      <td>2031.139290</td>\n",
       "    </tr>\n",
       "    <tr>\n",
       "      <th>48</th>\n",
       "      <td>FUELH2O_5</td>\n",
       "      <td>1821.905131</td>\n",
       "    </tr>\n",
       "    <tr>\n",
       "      <th>52</th>\n",
       "      <td>IECC_CLIMATE_PUB_4C</td>\n",
       "      <td>1642.941338</td>\n",
       "    </tr>\n",
       "    <tr>\n",
       "      <th>41</th>\n",
       "      <td>ROOFTYPE_4</td>\n",
       "      <td>1619.960033</td>\n",
       "    </tr>\n",
       "    <tr>\n",
       "      <th>37</th>\n",
       "      <td>REGIONC_3</td>\n",
       "      <td>1598.913386</td>\n",
       "    </tr>\n",
       "    <tr>\n",
       "      <th>50</th>\n",
       "      <td>FUELH2O2_5</td>\n",
       "      <td>1520.438515</td>\n",
       "    </tr>\n",
       "    <tr>\n",
       "      <th>10</th>\n",
       "      <td>NUMFREEZ</td>\n",
       "      <td>1182.238324</td>\n",
       "    </tr>\n",
       "    <tr>\n",
       "      <th>38</th>\n",
       "      <td>UATYP10_R</td>\n",
       "      <td>1103.963929</td>\n",
       "    </tr>\n",
       "    <tr>\n",
       "      <th>44</th>\n",
       "      <td>FUELTUB_5</td>\n",
       "      <td>1010.390465</td>\n",
       "    </tr>\n",
       "    <tr>\n",
       "      <th>9</th>\n",
       "      <td>NUMFRIG</td>\n",
       "      <td>962.593040</td>\n",
       "    </tr>\n",
       "    <tr>\n",
       "      <th>53</th>\n",
       "      <td>WWACAGE_41</td>\n",
       "      <td>940.784402</td>\n",
       "    </tr>\n",
       "    <tr>\n",
       "      <th>5</th>\n",
       "      <td>SWIMPOOL</td>\n",
       "      <td>881.125536</td>\n",
       "    </tr>\n",
       "    <tr>\n",
       "      <th>51</th>\n",
       "      <td>IECC_CLIMATE_PUB_4A</td>\n",
       "      <td>808.510907</td>\n",
       "    </tr>\n",
       "    <tr>\n",
       "      <th>47</th>\n",
       "      <td>COOLTYPE_3</td>\n",
       "      <td>772.950402</td>\n",
       "    </tr>\n",
       "    <tr>\n",
       "      <th>31</th>\n",
       "      <td>ELFOOD</td>\n",
       "      <td>737.781352</td>\n",
       "    </tr>\n",
       "    <tr>\n",
       "      <th>39</th>\n",
       "      <td>TYPEHUQ_2</td>\n",
       "      <td>716.009609</td>\n",
       "    </tr>\n",
       "  </tbody>\n",
       "</table>\n",
       "</div>"
      ],
      "text/plain": [
       "                Feature   Coefficient\n",
       "43           FUELTUB_21  17018.011610\n",
       "21             GARGCOOL   3072.800787\n",
       "46           FUELHEAT_5   2328.312619\n",
       "42           FUELPOOL_5   2237.268082\n",
       "23         MORETHAN1H2O   2031.139290\n",
       "48            FUELH2O_5   1821.905131\n",
       "52  IECC_CLIMATE_PUB_4C   1642.941338\n",
       "41           ROOFTYPE_4   1619.960033\n",
       "37            REGIONC_3   1598.913386\n",
       "50           FUELH2O2_5   1520.438515\n",
       "10             NUMFREEZ   1182.238324\n",
       "38            UATYP10_R   1103.963929\n",
       "44            FUELTUB_5   1010.390465\n",
       "9               NUMFRIG    962.593040\n",
       "53           WWACAGE_41    940.784402\n",
       "5              SWIMPOOL    881.125536\n",
       "51  IECC_CLIMATE_PUB_4A    808.510907\n",
       "47           COOLTYPE_3    772.950402\n",
       "31               ELFOOD    737.781352\n",
       "39            TYPEHUQ_2    716.009609"
      ]
     },
     "execution_count": 42,
     "metadata": {},
     "output_type": "execute_result"
    }
   ],
   "source": [
    "# Inspect coefficients\n",
    "col = pd.DataFrame(X_test.columns)\n",
    "coefs = pd.DataFrame(model.coef_)\n",
    "coef_df = pd.merge(col, coefs, left_index=True, right_index=True).sort_values(by='0_y', ascending=False)\n",
    "coef_df.columns = ['Feature', 'Coefficient']\n",
    "coef_df.head(20)"
   ]
  },
  {
   "cell_type": "code",
   "execution_count": 43,
   "metadata": {},
   "outputs": [],
   "source": [
    "# Create DataFrame comparing RidgeRegression Predicted kWh to Actual kWh\n",
    "\n",
    "predicted = pd.DataFrame(y_pred, columns=['Predicted']).set_index(y_test.index)\n",
    "results = pd.merge(predicted, y_test, left_index=True, right_index = True)\n",
    "results_sorted = results.sort_values(['KWH'])"
   ]
  },
  {
   "cell_type": "code",
   "execution_count": 44,
   "metadata": {},
   "outputs": [
    {
     "data": {
      "image/png": "[encoded data removed]",
      "text/plain": [
       "<Figure size 900x600 with 1 Axes>"
      ]
     },
     "metadata": {
      "needs_background": "light"
     },
     "output_type": "display_data"
    }
   ],
   "source": [
    "# Visually inspect results\n",
    "_ = plt.scatter(np.arange(len(X_test)), results_sorted['Predicted'])\n",
    "_ = plt.scatter(np.arange(len(X_test)), results_sorted['KWH'])\n",
    "plt.legend(['Predicted kWh','Actual kWh'])\n",
    "plt.title(\"Ridge Regression: Predicted and Actual kWh\")\n",
    "plt.show()"
   ]
  },
  {
   "cell_type": "code",
   "execution_count": 45,
   "metadata": {},
   "outputs": [
    {
     "name": "stdout",
     "output_type": "stream",
     "text": [
      "Cross Validation Results\n",
      "Lasso_Regression: 0.6199199752568768\n",
      "Linear_Regression: 0.6079975070836949\n",
      "Ridge_Regression: 0.6088276743353143\n"
     ]
    }
   ],
   "source": [
    "print('Cross Validation Results')\n",
    "print('Lasso_Regression:', lasso_eval)\n",
    "print('Linear_Regression:', linear_eval)\n",
    "print('Ridge_Regression:', ridge_eval)"
   ]
  },
  {
   "cell_type": "markdown",
   "metadata": {},
   "source": [
    "Summary\n",
    "\n",
    "I used Lasso Regression for feature selection. A higher alpha in the Lasso regression reduces the number of features, while a lower alpha preserves features. I manually tested the results of different alphas and determined that alpha=2 preserves most of the accuracy while substantially reducing number of features (down to 54 from the original 307 post manual feature inspection and deletion).\n",
    "\n",
    "I then performed model fitting and 5-fold cross-validation for a lasso, linear, and ridge regression model. All produced similar cross-validation scores (shown above) and had correlation coefficients of 0.77 to 0.78 between predicted kWh and test-set kWh.\n",
    "\n",
    "The linear regression model may be the best choice for its interpretability, even though lasso and ridge regression produced very slight improvements in cross-validation scores."
   ]
  }
 ],
 "metadata": {
  "kernelspec": {
   "display_name": "Python 3 (ipykernel)",
   "language": "python",
   "name": "python3"
  },
  "language_info": {
   "codemirror_mode": {
    "name": "ipython",
    "version": 3
   },
   "file_extension": ".py",
   "mimetype": "text/x-python",
   "name": "python",
   "nbconvert_exporter": "python",
   "pygments_lexer": "ipython3",
   "version": "3.7.9"
  },
  "toc-showtags": false
 },
 "nbformat": 4,
 "nbformat_minor": 4
}
