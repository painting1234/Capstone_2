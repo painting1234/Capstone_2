{
 "cells": [
  {
   "cell_type": "code",
   "execution_count": 9,
   "metadata": {},
   "outputs": [],
   "source": [
    "# Import packages\n",
    "import os\n",
    "import seaborn as sns\n",
    "import numpy as np\n",
    "import pandas as pd\n",
    "import matplotlib.pyplot as plt\n",
    "from IPython.display import display, HTML\n",
    "import statsmodels.api as sm\n",
    "#os.listdir()"
   ]
  },
  {
   "cell_type": "markdown",
   "metadata": {},
   "source": [
    "Estimating Residential Electricity Consumption\n",
    "\n",
    "Predicting how much electricity a home will use is important to various entities, such as prospective homebuyers, landlords, and developers. The Energy Information Administration (EIA) conducts a survey of residential energy usage (known as 'RECS') which is a feature rich dataset describing building and homeowner properties.\n",
    "\n",
    "The dataset consists of 5,686 observations and 758 features."
   ]
  },
  {
   "cell_type": "code",
   "execution_count": 2,
   "metadata": {},
   "outputs": [
    {
     "name": "stdout",
     "output_type": "stream",
     "text": [
      "(5686, 758)\n"
     ]
    },
    {
     "data": {
      "text/html": [
       "<div>\n",
       "<style scoped>\n",
       "    .dataframe tbody tr th:only-of-type {\n",
       "        vertical-align: middle;\n",
       "    }\n",
       "\n",
       "    .dataframe tbody tr th {\n",
       "        vertical-align: top;\n",
       "    }\n",
       "\n",
       "    .dataframe thead th {\n",
       "        text-align: right;\n",
       "    }\n",
       "</style>\n",
       "<table border=\"1\" class=\"dataframe\">\n",
       "  <thead>\n",
       "    <tr style=\"text-align: right;\">\n",
       "      <th></th>\n",
       "      <th>REGIONC</th>\n",
       "      <th>DIVISION</th>\n",
       "      <th>METROMICRO</th>\n",
       "      <th>UATYP10</th>\n",
       "      <th>TYPEHUQ</th>\n",
       "      <th>ZTYPEHUQ</th>\n",
       "      <th>CELLAR</th>\n",
       "      <th>ZCELLAR</th>\n",
       "      <th>BASEFIN</th>\n",
       "      <th>ZBASEFIN</th>\n",
       "      <th>...</th>\n",
       "      <th>ZELAMOUNT</th>\n",
       "      <th>NGXBTU</th>\n",
       "      <th>PERIODNG</th>\n",
       "      <th>ZNGAMOUNT</th>\n",
       "      <th>FOXBTU</th>\n",
       "      <th>PERIODFO</th>\n",
       "      <th>ZFOAMOUNT</th>\n",
       "      <th>LPXBTU</th>\n",
       "      <th>PERIODLP</th>\n",
       "      <th>ZLPAMOUNT</th>\n",
       "    </tr>\n",
       "    <tr>\n",
       "      <th>DOEID</th>\n",
       "      <th></th>\n",
       "      <th></th>\n",
       "      <th></th>\n",
       "      <th></th>\n",
       "      <th></th>\n",
       "      <th></th>\n",
       "      <th></th>\n",
       "      <th></th>\n",
       "      <th></th>\n",
       "      <th></th>\n",
       "      <th></th>\n",
       "      <th></th>\n",
       "      <th></th>\n",
       "      <th></th>\n",
       "      <th></th>\n",
       "      <th></th>\n",
       "      <th></th>\n",
       "      <th></th>\n",
       "      <th></th>\n",
       "      <th></th>\n",
       "      <th></th>\n",
       "    </tr>\n",
       "  </thead>\n",
       "  <tbody>\n",
       "    <tr>\n",
       "      <th>10001</th>\n",
       "      <td>4</td>\n",
       "      <td>10</td>\n",
       "      <td>METRO</td>\n",
       "      <td>U</td>\n",
       "      <td>2</td>\n",
       "      <td>0</td>\n",
       "      <td>0</td>\n",
       "      <td>0</td>\n",
       "      <td>-2</td>\n",
       "      <td>-2</td>\n",
       "      <td>...</td>\n",
       "      <td>0</td>\n",
       "      <td>103.32</td>\n",
       "      <td>1</td>\n",
       "      <td>0</td>\n",
       "      <td>137.45</td>\n",
       "      <td>-2</td>\n",
       "      <td>-2</td>\n",
       "      <td>91.33</td>\n",
       "      <td>-2</td>\n",
       "      <td>-2</td>\n",
       "    </tr>\n",
       "    <tr>\n",
       "      <th>10002</th>\n",
       "      <td>3</td>\n",
       "      <td>7</td>\n",
       "      <td>NONE</td>\n",
       "      <td>R</td>\n",
       "      <td>2</td>\n",
       "      <td>0</td>\n",
       "      <td>0</td>\n",
       "      <td>0</td>\n",
       "      <td>-2</td>\n",
       "      <td>-2</td>\n",
       "      <td>...</td>\n",
       "      <td>1</td>\n",
       "      <td>NaN</td>\n",
       "      <td>-2</td>\n",
       "      <td>-2</td>\n",
       "      <td>137.45</td>\n",
       "      <td>-2</td>\n",
       "      <td>-2</td>\n",
       "      <td>91.33</td>\n",
       "      <td>-2</td>\n",
       "      <td>-2</td>\n",
       "    </tr>\n",
       "    <tr>\n",
       "      <th>10003</th>\n",
       "      <td>3</td>\n",
       "      <td>6</td>\n",
       "      <td>METRO</td>\n",
       "      <td>U</td>\n",
       "      <td>2</td>\n",
       "      <td>0</td>\n",
       "      <td>1</td>\n",
       "      <td>0</td>\n",
       "      <td>1</td>\n",
       "      <td>0</td>\n",
       "      <td>...</td>\n",
       "      <td>0</td>\n",
       "      <td>100.14</td>\n",
       "      <td>1</td>\n",
       "      <td>0</td>\n",
       "      <td>137.45</td>\n",
       "      <td>-2</td>\n",
       "      <td>-2</td>\n",
       "      <td>91.33</td>\n",
       "      <td>-2</td>\n",
       "      <td>-2</td>\n",
       "    </tr>\n",
       "    <tr>\n",
       "      <th>10004</th>\n",
       "      <td>2</td>\n",
       "      <td>4</td>\n",
       "      <td>MICRO</td>\n",
       "      <td>C</td>\n",
       "      <td>2</td>\n",
       "      <td>0</td>\n",
       "      <td>1</td>\n",
       "      <td>0</td>\n",
       "      <td>1</td>\n",
       "      <td>0</td>\n",
       "      <td>...</td>\n",
       "      <td>0</td>\n",
       "      <td>NaN</td>\n",
       "      <td>-2</td>\n",
       "      <td>-2</td>\n",
       "      <td>137.45</td>\n",
       "      <td>-2</td>\n",
       "      <td>-2</td>\n",
       "      <td>91.33</td>\n",
       "      <td>2</td>\n",
       "      <td>0</td>\n",
       "    </tr>\n",
       "    <tr>\n",
       "      <th>10005</th>\n",
       "      <td>1</td>\n",
       "      <td>2</td>\n",
       "      <td>METRO</td>\n",
       "      <td>U</td>\n",
       "      <td>2</td>\n",
       "      <td>0</td>\n",
       "      <td>1</td>\n",
       "      <td>0</td>\n",
       "      <td>0</td>\n",
       "      <td>0</td>\n",
       "      <td>...</td>\n",
       "      <td>0</td>\n",
       "      <td>102.83</td>\n",
       "      <td>1</td>\n",
       "      <td>0</td>\n",
       "      <td>137.45</td>\n",
       "      <td>-2</td>\n",
       "      <td>-2</td>\n",
       "      <td>91.33</td>\n",
       "      <td>-2</td>\n",
       "      <td>-2</td>\n",
       "    </tr>\n",
       "  </tbody>\n",
       "</table>\n",
       "<p>5 rows × 758 columns</p>\n",
       "</div>"
      ],
      "text/plain": [
       "       REGIONC  DIVISION METROMICRO UATYP10  TYPEHUQ  ZTYPEHUQ  CELLAR  \\\n",
       "DOEID                                                                    \n",
       "10001        4        10      METRO       U        2         0       0   \n",
       "10002        3         7       NONE       R        2         0       0   \n",
       "10003        3         6      METRO       U        2         0       1   \n",
       "10004        2         4      MICRO       C        2         0       1   \n",
       "10005        1         2      METRO       U        2         0       1   \n",
       "\n",
       "       ZCELLAR  BASEFIN  ZBASEFIN  ...  ZELAMOUNT  NGXBTU  PERIODNG  \\\n",
       "DOEID                              ...                                \n",
       "10001        0       -2        -2  ...          0  103.32         1   \n",
       "10002        0       -2        -2  ...          1     NaN        -2   \n",
       "10003        0        1         0  ...          0  100.14         1   \n",
       "10004        0        1         0  ...          0     NaN        -2   \n",
       "10005        0        0         0  ...          0  102.83         1   \n",
       "\n",
       "       ZNGAMOUNT  FOXBTU  PERIODFO  ZFOAMOUNT  LPXBTU  PERIODLP  ZLPAMOUNT  \n",
       "DOEID                                                                       \n",
       "10001          0  137.45        -2         -2   91.33        -2         -2  \n",
       "10002         -2  137.45        -2         -2   91.33        -2         -2  \n",
       "10003          0  137.45        -2         -2   91.33        -2         -2  \n",
       "10004         -2  137.45        -2         -2   91.33         2          0  \n",
       "10005          0  137.45        -2         -2   91.33        -2         -2  \n",
       "\n",
       "[5 rows x 758 columns]"
      ]
     },
     "execution_count": 2,
     "metadata": {},
     "output_type": "execute_result"
    }
   ],
   "source": [
    "# Data Collection\n",
    "# Data files and codebook from: https://www.eia.gov/consumption/residential/data/2015/index.php?view=microdata\n",
    "\n",
    "# Load and Preview DataFrame\n",
    "df = pd.read_csv('recs2015.csv')\n",
    "df = df.set_index(['DOEID'])\n",
    "print(df.shape)\n",
    "df.head()"
   ]
  },
  {
   "cell_type": "markdown",
   "metadata": {},
   "source": [
    "### Exploratory Data Analysis"
   ]
  },
  {
   "cell_type": "markdown",
   "metadata": {},
   "source": [
    "Because the dataset has so many features, it is difficult to look at as a whole. I start by creating some boxplots for what I expect are important variables. The plots below show that number of bedrooms is very significant. However, the decade in which the home was built (feature 'YEARMADERANGE') does not appear as important, despite efforts at increasing home efficiency in more recent years. The only geographic region that stands out as using significantly different electricity consumption from other regions is Region 3."
   ]
  },
  {
   "cell_type": "code",
   "execution_count": 3,
   "metadata": {},
   "outputs": [
    {
     "data": {
      "text/plain": [
       "<AxesSubplot:xlabel='BEDROOMS', ylabel='KWH'>"
      ]
     },
     "execution_count": 3,
     "metadata": {},
     "output_type": "execute_result"
    },
    {
     "data": {
      "image/png": "[encoded data removed]",
      "text/plain": [
       "<Figure size 432x288 with 1 Axes>"
      ]
     },
     "metadata": {
      "needs_background": "light"
     },
     "output_type": "display_data"
    }
   ],
   "source": [
    "sns.boxplot(x=df['BEDROOMS'],y=df['KWH'])"
   ]
  },
  {
   "cell_type": "code",
   "execution_count": 4,
   "metadata": {},
   "outputs": [
    {
     "data": {
      "text/plain": [
       "<AxesSubplot:xlabel='YEARMADERANGE', ylabel='KWH'>"
      ]
     },
     "execution_count": 4,
     "metadata": {},
     "output_type": "execute_result"
    },
    {
     "data": {
      "image/png": "[encoded data removed]",
      "text/plain": [
       "<Figure size 432x288 with 1 Axes>"
      ]
     },
     "metadata": {
      "needs_background": "light"
     },
     "output_type": "display_data"
    }
   ],
   "source": [
    "sns.boxplot(x=df['YEARMADERANGE'],y=df['KWH'])"
   ]
  },
  {
   "cell_type": "code",
   "execution_count": 5,
   "metadata": {},
   "outputs": [
    {
     "data": {
      "text/plain": [
       "<AxesSubplot:xlabel='REGIONC', ylabel='KWH'>"
      ]
     },
     "execution_count": 5,
     "metadata": {},
     "output_type": "execute_result"
    },
    {
     "data": {
      "image/png": "[encoded data removed]",
      "text/plain": [
       "<Figure size 432x288 with 1 Axes>"
      ]
     },
     "metadata": {
      "needs_background": "light"
     },
     "output_type": "display_data"
    }
   ],
   "source": [
    "sns.boxplot(x=df['REGIONC'],y=df['KWH'])"
   ]
  },
  {
   "cell_type": "markdown",
   "metadata": {},
   "source": [
    "Another EDA technique I explore is a dendogram. The model will ultimately need to reduce the 758 features to a much more manageable number, and the dendogram may help show which building materials are similar and can possibly be clustered into a smaller number of features. The features with the shortest leaves are most similar and those with the longest are most dissimilar, making them important.\n",
    "\n",
    "ROOFTYPE_5, the most important building material, is a shingles roof.\n",
    "\n",
    "Materials with the most similar data are slate roof (ROOFTYPE_4) and type \"Other\" wall (WALLTYPE_9), meaning it is none of the other listed walltypes such as brick, wood, stone, or concrete block.\n",
    "\n",
    "The dendogram can show interesting relationships, but ultimately there are too many variables to analyze manually and it needs a machine learning method for feature engineering/selection.\n"
   ]
  },
  {
   "cell_type": "code",
   "execution_count": 11,
   "metadata": {},
   "outputs": [
    {
     "data": {
      "image/png": "[encoded data removed]",
      "text/plain": [
       "<Figure size 3600x2400 with 1 Axes>"
      ]
     },
     "metadata": {
      "needs_background": "light"
     },
     "output_type": "display_data"
    },
    {
     "data": {
      "text/plain": [
       "<Figure size 9000x6000 with 0 Axes>"
      ]
     },
     "metadata": {},
     "output_type": "display_data"
    },
    {
     "data": {
      "text/html": [
       "<div>\n",
       "<style scoped>\n",
       "    .dataframe tbody tr th:only-of-type {\n",
       "        vertical-align: middle;\n",
       "    }\n",
       "\n",
       "    .dataframe tbody tr th {\n",
       "        vertical-align: top;\n",
       "    }\n",
       "\n",
       "    .dataframe thead th {\n",
       "        text-align: right;\n",
       "    }\n",
       "</style>\n",
       "<table border=\"1\" class=\"dataframe\">\n",
       "  <thead>\n",
       "    <tr style=\"text-align: right;\">\n",
       "      <th></th>\n",
       "      <th>WALLTYPE_1</th>\n",
       "      <th>WALLTYPE_2</th>\n",
       "      <th>WALLTYPE_3</th>\n",
       "      <th>WALLTYPE_4</th>\n",
       "      <th>WALLTYPE_5</th>\n",
       "      <th>WALLTYPE_6</th>\n",
       "      <th>WALLTYPE_7</th>\n",
       "      <th>WALLTYPE_9</th>\n",
       "      <th>ROOFTYPE_-2</th>\n",
       "      <th>ROOFTYPE_1</th>\n",
       "      <th>ROOFTYPE_2</th>\n",
       "      <th>ROOFTYPE_3</th>\n",
       "      <th>ROOFTYPE_4</th>\n",
       "      <th>ROOFTYPE_5</th>\n",
       "      <th>ROOFTYPE_7</th>\n",
       "      <th>ROOFTYPE_9</th>\n",
       "    </tr>\n",
       "    <tr>\n",
       "      <th>DOEID</th>\n",
       "      <th></th>\n",
       "      <th></th>\n",
       "      <th></th>\n",
       "      <th></th>\n",
       "      <th></th>\n",
       "      <th></th>\n",
       "      <th></th>\n",
       "      <th></th>\n",
       "      <th></th>\n",
       "      <th></th>\n",
       "      <th></th>\n",
       "      <th></th>\n",
       "      <th></th>\n",
       "      <th></th>\n",
       "      <th></th>\n",
       "      <th></th>\n",
       "    </tr>\n",
       "  </thead>\n",
       "  <tbody>\n",
       "    <tr>\n",
       "      <th>10001</th>\n",
       "      <td>0</td>\n",
       "      <td>0</td>\n",
       "      <td>0</td>\n",
       "      <td>1</td>\n",
       "      <td>0</td>\n",
       "      <td>0</td>\n",
       "      <td>0</td>\n",
       "      <td>0</td>\n",
       "      <td>0</td>\n",
       "      <td>1</td>\n",
       "      <td>0</td>\n",
       "      <td>0</td>\n",
       "      <td>0</td>\n",
       "      <td>0</td>\n",
       "      <td>0</td>\n",
       "      <td>0</td>\n",
       "    </tr>\n",
       "    <tr>\n",
       "      <th>10002</th>\n",
       "      <td>0</td>\n",
       "      <td>0</td>\n",
       "      <td>1</td>\n",
       "      <td>0</td>\n",
       "      <td>0</td>\n",
       "      <td>0</td>\n",
       "      <td>0</td>\n",
       "      <td>0</td>\n",
       "      <td>0</td>\n",
       "      <td>0</td>\n",
       "      <td>0</td>\n",
       "      <td>1</td>\n",
       "      <td>0</td>\n",
       "      <td>0</td>\n",
       "      <td>0</td>\n",
       "      <td>0</td>\n",
       "    </tr>\n",
       "    <tr>\n",
       "      <th>10003</th>\n",
       "      <td>0</td>\n",
       "      <td>1</td>\n",
       "      <td>0</td>\n",
       "      <td>0</td>\n",
       "      <td>0</td>\n",
       "      <td>0</td>\n",
       "      <td>0</td>\n",
       "      <td>0</td>\n",
       "      <td>0</td>\n",
       "      <td>0</td>\n",
       "      <td>0</td>\n",
       "      <td>0</td>\n",
       "      <td>0</td>\n",
       "      <td>1</td>\n",
       "      <td>0</td>\n",
       "      <td>0</td>\n",
       "    </tr>\n",
       "    <tr>\n",
       "      <th>10004</th>\n",
       "      <td>0</td>\n",
       "      <td>0</td>\n",
       "      <td>1</td>\n",
       "      <td>0</td>\n",
       "      <td>0</td>\n",
       "      <td>0</td>\n",
       "      <td>0</td>\n",
       "      <td>0</td>\n",
       "      <td>0</td>\n",
       "      <td>0</td>\n",
       "      <td>0</td>\n",
       "      <td>0</td>\n",
       "      <td>0</td>\n",
       "      <td>1</td>\n",
       "      <td>0</td>\n",
       "      <td>0</td>\n",
       "    </tr>\n",
       "    <tr>\n",
       "      <th>10005</th>\n",
       "      <td>1</td>\n",
       "      <td>0</td>\n",
       "      <td>0</td>\n",
       "      <td>0</td>\n",
       "      <td>0</td>\n",
       "      <td>0</td>\n",
       "      <td>0</td>\n",
       "      <td>0</td>\n",
       "      <td>0</td>\n",
       "      <td>0</td>\n",
       "      <td>0</td>\n",
       "      <td>0</td>\n",
       "      <td>0</td>\n",
       "      <td>1</td>\n",
       "      <td>0</td>\n",
       "      <td>0</td>\n",
       "    </tr>\n",
       "  </tbody>\n",
       "</table>\n",
       "</div>"
      ],
      "text/plain": [
       "       WALLTYPE_1  WALLTYPE_2  WALLTYPE_3  WALLTYPE_4  WALLTYPE_5  WALLTYPE_6  \\\n",
       "DOEID                                                                           \n",
       "10001           0           0           0           1           0           0   \n",
       "10002           0           0           1           0           0           0   \n",
       "10003           0           1           0           0           0           0   \n",
       "10004           0           0           1           0           0           0   \n",
       "10005           1           0           0           0           0           0   \n",
       "\n",
       "       WALLTYPE_7  WALLTYPE_9  ROOFTYPE_-2  ROOFTYPE_1  ROOFTYPE_2  \\\n",
       "DOEID                                                                \n",
       "10001           0           0            0           1           0   \n",
       "10002           0           0            0           0           0   \n",
       "10003           0           0            0           0           0   \n",
       "10004           0           0            0           0           0   \n",
       "10005           0           0            0           0           0   \n",
       "\n",
       "       ROOFTYPE_3  ROOFTYPE_4  ROOFTYPE_5  ROOFTYPE_7  ROOFTYPE_9  \n",
       "DOEID                                                              \n",
       "10001           0           0           0           0           0  \n",
       "10002           1           0           0           0           0  \n",
       "10003           0           0           1           0           0  \n",
       "10004           0           0           1           0           0  \n",
       "10005           0           0           1           0           0  "
      ]
     },
     "execution_count": 11,
     "metadata": {},
     "output_type": "execute_result"
    }
   ],
   "source": [
    "# Perform hierarchial clustering on building properties\n",
    "from scipy.cluster.hierarchy import linkage, dendrogram\n",
    "from sklearn.preprocessing import normalize\n",
    "\n",
    "X0 = pd.get_dummies(df[['WALLTYPE', 'ROOFTYPE']].astype(str))\n",
    "\n",
    "mergings = linkage(X0.T, method='single')\n",
    "dendrogram(mergings, labels=X0.columns, leaf_rotation=0, leaf_font_size=3, orientation='right')\n",
    "plt.figure(figsize=(15,10))\n",
    "plt.show()\n",
    "plt.rcParams['figure.dpi'] = 600\n",
    "X0.head()"
   ]
  },
  {
   "cell_type": "markdown",
   "metadata": {},
   "source": [
    "### Data Cleaning"
   ]
  },
  {
   "cell_type": "markdown",
   "metadata": {},
   "source": [
    "There are many features that have no impact or unlikely impact on electricity consumption, such as columns for imputation flags or costs of other utilities. All of the feature descriptions and variable codes are described in a separate Excel workbook from EIA, so I went through those manually and imported the below lists of features to eliminate."
   ]
  },
  {
   "cell_type": "markdown",
   "metadata": {},
   "source": [
    "#### -->Eliminate Extraneous Features"
   ]
  },
  {
   "cell_type": "code",
   "execution_count": 7,
   "metadata": {},
   "outputs": [],
   "source": [
    "# Read in lists of non-predictive features\n",
    "impute0 = pd.read_excel('Data Cleaning/imputation_flags.xlsx')['Variable']\n",
    "conversion0 = pd.read_excel('Data Cleaning/conversion_factors.xlsx')['Variable']\n",
    "other_utilities0 = pd.read_excel('Data Cleaning/other_utilities.xlsx')['Variable']\n",
    "estimators0 = pd.read_excel('Data Cleaning/statistical_estimators.xlsx')['Variable']\n",
    "utility_costs0 = pd.read_excel('Data Cleaning/utility_costs.xlsx')['Variable']\n",
    "miscellaneous0 = pd.read_excel('Data Cleaning/miscellaneous_not_used.xlsx')['Variable']\n",
    "redundant0 = pd.read_excel('Data Cleaning/redundant_vars.xlsx')['Variable']\n",
    "detailed0 = pd.read_excel('Data Cleaning/detailed_audit.xlsx')['Variable']"
   ]
  },
  {
   "cell_type": "code",
   "execution_count": 8,
   "metadata": {},
   "outputs": [],
   "source": [
    "# Read in lists of similar predictive features that may work better as clusters or principal components\n",
    "tenant_behavior_c = pd.read_excel('Data Cleaning/tenant_behavior_cluster.xlsx')['Variable']\n",
    "energy_star_c = pd.read_excel('Data Cleaning/energy_star_cluster.xlsx')['Variable']\n",
    "energy_assistance_c = pd.read_excel('Data Cleaning/energy_assistance_cluster.xlsx')['Variable']"
   ]
  },
  {
   "cell_type": "code",
   "execution_count": 9,
   "metadata": {},
   "outputs": [],
   "source": [
    "# Combine nonpredictive features into a single list\n",
    "nonpredict = np.concatenate((impute0, conversion0, other_utilities0, estimators0, utility_costs0, miscellaneous0, redundant0, detailed0), axis=0)"
   ]
  },
  {
   "cell_type": "code",
   "execution_count": 10,
   "metadata": {},
   "outputs": [],
   "source": [
    "# Combine clusters into list to be temporarily dropped\n",
    "clustervars = np.concatenate((tenant_behavior_c, energy_star_c, energy_assistance_c), axis=0)"
   ]
  },
  {
   "cell_type": "code",
   "execution_count": 11,
   "metadata": {},
   "outputs": [],
   "source": [
    "# Drop nonpredictive features\n",
    "df = df.drop(nonpredict, axis=1)\n",
    "df = df.drop(clustervars, axis=1)"
   ]
  },
  {
   "cell_type": "markdown",
   "metadata": {},
   "source": [
    "After removing, I check for any other missing or unusable values."
   ]
  },
  {
   "cell_type": "markdown",
   "metadata": {},
   "source": [
    "#### -->Inspect Resulting Dataframe"
   ]
  },
  {
   "cell_type": "code",
   "execution_count": 12,
   "metadata": {},
   "outputs": [],
   "source": [
    "# Count missing values: {'Not applicable': -2, 'Don't Know': -9, 'Refuse': -8}\n",
    "\n",
    "# Create mask for each type of missing value\n",
    "na_mask = df.apply(lambda x: x==-2)\n",
    "dk_mask = df.apply(lambda x: x==-9)\n",
    "refuse_mask = df.apply(lambda x: x==-8)"
   ]
  },
  {
   "cell_type": "code",
   "execution_count": 13,
   "metadata": {},
   "outputs": [
    {
     "name": "stdout",
     "output_type": "stream",
     "text": [
      "48 columns containing \"Not applicable\" values.\n",
      "4 columns containing \"Dont know\" values.\n",
      "2 columns containing \"Refuse\" values.\n"
     ]
    }
   ],
   "source": [
    "# Count number of instances where mask is True, then filter out columns with no missing values\n",
    "na = df[na_mask].count()[df[na_mask].count() > 0]\n",
    "dk = df[dk_mask].count()[df[dk_mask].count() > 0]\n",
    "refuse = df[refuse_mask].count()[df[refuse_mask].count() > 0]\n",
    "\n",
    "print(str(len(na.index)) + ' columns containing \\\"Not applicable\\\" values.')\n",
    "print(str(len(dk.index)) + ' columns containing \\\"Dont know\\\" values.')\n",
    "print(str(len(refuse.index)) + ' columns containing \\\"Refuse\\\" values.')"
   ]
  },
  {
   "cell_type": "markdown",
   "metadata": {},
   "source": [
    "#### -->Replace Negative Variables"
   ]
  },
  {
   "cell_type": "code",
   "execution_count": 14,
   "metadata": {},
   "outputs": [],
   "source": [
    "# Replace negative values for binary variables (i.e. where negatives are \"not applicable\")\n",
    "# Read in binary variables\n",
    "binaryvars = pd.read_excel('Data Cleaning/binary_vars.xlsx')['Variable']\n",
    "\n",
    "# Filter out negative values (\"Not applicable\" means approximately the same as \"no\" or \"does not have\")\n",
    "df[binaryvars] = df[binaryvars].apply(lambda x: (x>0)*x)"
   ]
  },
  {
   "cell_type": "markdown",
   "metadata": {},
   "source": [
    "#### -->Make Categorical Variables Dummy Variables"
   ]
  },
  {
   "cell_type": "code",
   "execution_count": 15,
   "metadata": {},
   "outputs": [],
   "source": [
    "# Create dummy variables for columns with missing answers, making the missing values the base case.\n",
    "\n",
    "# Read in list of categorical variables\n",
    "cat_vars = pd.read_excel('Data Cleaning/categorical_vars.xlsx')['Variable']"
   ]
  },
  {
   "cell_type": "code",
   "execution_count": 16,
   "metadata": {},
   "outputs": [],
   "source": [
    "df = pd.get_dummies(df.astype(str), columns=cat_vars, drop_first=True, prefix=cat_vars).astype('float64')"
   ]
  },
  {
   "cell_type": "code",
   "execution_count": 17,
   "metadata": {},
   "outputs": [
    {
     "name": "stdout",
     "output_type": "stream",
     "text": [
      "0\n"
     ]
    },
    {
     "data": {
      "text/plain": [
       "(5686, 227)"
      ]
     },
     "execution_count": 17,
     "metadata": {},
     "output_type": "execute_result"
    }
   ],
   "source": [
    "# Check missing values\n",
    "print(df.isna().sum().max())\n",
    "\n",
    "# Inspect DataFrame\n",
    "df.shape"
   ]
  },
  {
   "cell_type": "markdown",
   "metadata": {},
   "source": [
    "### Feature Selection"
   ]
  },
  {
   "cell_type": "code",
   "execution_count": 18,
   "metadata": {},
   "outputs": [],
   "source": [
    "# Feature Selection\n",
    "\n",
    "from sklearn.linear_model import Lasso\n",
    "from sklearn.model_selection import train_test_split"
   ]
  },
  {
   "cell_type": "code",
   "execution_count": 19,
   "metadata": {},
   "outputs": [],
   "source": [
    "# Split Data\n",
    "X = df.drop('KWH', axis=1)\n",
    "names = df.drop('KWH', axis=1).columns\n",
    "y = df['KWH']"
   ]
  },
  {
   "cell_type": "markdown",
   "metadata": {},
   "source": [
    "Finally, inspect which features result using Lasso regression."
   ]
  },
  {
   "cell_type": "markdown",
   "metadata": {},
   "source": [
    "#### -->Lasso Regression"
   ]
  },
  {
   "cell_type": "code",
   "execution_count": 20,
   "metadata": {},
   "outputs": [
    {
     "name": "stdout",
     "output_type": "stream",
     "text": [
      "Index(['ATTIC', 'BEDROOMS', 'NCOMBATH', 'NHAFBATH', 'TOTROOMS', 'HIGHCEIL',\n",
      "       'WINDOWS', 'ADQINSUL', 'SWIMPOOL', 'POOL', 'RECBATH', 'BACKUP',\n",
      "       'NUMFRIG', 'NUMFREEZ', 'OVEN', 'DISHWASH', 'DRYER', 'AIRCOND',\n",
      "       'CENACHP', 'NUMBERAC', 'GARGCOOL', 'MORETHAN1H2O', 'NHSLDMEM',\n",
      "       'NUMADULT', 'MONEYPY', 'ELWARM', 'ELCOOL', 'ELFOOD', 'TOTCSQFT',\n",
      "       'TOTSQFT_EN', 'CDD30YR', 'DBT1', 'REGIONC_3', 'METROMICRO_MICRO',\n",
      "       'UATYP10_R', 'TYPEHUQ_2', 'STORIES_10', 'WALLTYPE_6', 'ROOFTYPE_3',\n",
      "       'ROOFTYPE_4', 'FUELPOOL_1', 'FUELPOOL_5', 'FUELTUB_2', 'FUELTUB_21',\n",
      "       'FUELTUB_5', 'STOVEFUEL_2', 'DRYRFUEL_5', 'FUELHEAT_5',\n",
      "       'EQUIPAUXTYPE_9', 'COOLTYPE_3', 'FUELH2O_5', 'WHEATSIZ_3', 'FUELH2O2_5',\n",
      "       'IECC_CLIMATE_PUB_4A', 'IECC_CLIMATE_PUB_4C', 'SIZEOFGARAGE_3',\n",
      "       'AGECENAC_42', 'WWACAGE_2', 'WWACAGE_41'],\n",
      "      dtype='object')\n"
     ]
    },
    {
     "data": {
      "text/plain": [
       "59"
      ]
     },
     "execution_count": 20,
     "metadata": {},
     "output_type": "execute_result"
    }
   ],
   "source": [
    "# Lasso: Select Features\n",
    "\n",
    "lasso = Lasso(alpha=1, max_iter=1000, normalize=True)\n",
    "lasso_coef = lasso.fit(X,y).coef_\n",
    "coef = pd.DataFrame(lasso_coef, names)\n",
    "coef_names = coef[coef[0]>0].index\n",
    "print(coef_names)\n",
    "len(coef_names)"
   ]
  }
 ],
 "metadata": {
  "kernelspec": {
   "display_name": "Python 3",
   "language": "python",
   "name": "python3"
  },
  "language_info": {
   "codemirror_mode": {
    "name": "ipython",
    "version": 3
   },
   "file_extension": ".py",
   "mimetype": "text/x-python",
   "name": "python",
   "nbconvert_exporter": "python",
   "pygments_lexer": "ipython3",
   "version": "3.7.9"
  },
  "toc-showtags": false
 },
 "nbformat": 4,
 "nbformat_minor": 4
}
